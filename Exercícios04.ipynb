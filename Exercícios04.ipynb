{
 "cells": [
  {
   "cell_type": "markdown",
   "metadata": {},
   "source": [
    "Desafio "
   ]
  },
  {
   "cell_type": "markdown",
   "metadata": {},
   "source": [
    "1. Peça o salário do funcionário e calcule o valor do IRPF e INSS do funcionário e quanto ele irá\n",
    "receber no final do mês, considerando a seguinte tabela:"
   ]
  },
  {
   "cell_type": "code",
   "execution_count": null,
   "metadata": {},
   "outputs": [],
   "source": [
    "salario = float(input('Digite o salario: '))\n",
    "if salario <= 2259 :\n",
    "    desconto_irpf = 0\n",
    "elif salario <= 2826.65 :\n",
    "    desconto_irpf = salario * 0.075 \n",
    "elif salario <= 3751.05\n",
    "    desconto_irpf = salario * 0.15\n",
    "elif salario <= 4664.68 :\n",
    "    desconto_irpf = salario * 0.225\n",
    "else : \n",
    "    desconto_irpf = salario * 0.275\n",
    "\n",
    "#considerando a tabela do INSS\n",
    "if salario <= 1412 :\n",
    "    desconto_irpf = salario * 0.075\n",
    "elif salario <= 2666.68 :\n",
    "    desconto_irpf = salario * 0.09\n",
    "elif salario <= 4000.03\n",
    "    desconto_irpf = salario * 0.12\n",
    "else : \n",
    "    desconto_irpf = salario * 0.14\n",
    "\n",
    "\n",
    "salario_liquido = salario - desconto_irpf\n",
    "print (f'Seu salario líquido será: R$ {salario_liquido: .2f}')"
   ]
  },
  {
   "cell_type": "markdown",
   "metadata": {},
   "source": [
    "08/03/2024 - laço de repetição - While "
   ]
  },
  {
   "cell_type": "code",
   "execution_count": 10,
   "metadata": {},
   "outputs": [
    {
     "name": "stdout",
     "output_type": "stream",
     "text": [
      "Eu vou prestar atenção na aula 1\n",
      "Eu vou prestar atenção na aula 2\n",
      "Eu vou prestar atenção na aula 3\n",
      "Eu vou prestar atenção na aula 4\n",
      "Eu vou prestar atenção na aula 5\n",
      "Eu vou prestar atenção na aula 6\n",
      "Eu vou prestar atenção na aula 7\n",
      "Eu vou prestar atenção na aula 8\n",
      "Eu vou prestar atenção na aula 9\n",
      "Eu vou prestar atenção na aula 10\n",
      "FIM\n"
     ]
    }
   ],
   "source": [
    "x = 1\n",
    "while x <= 10 : \n",
    "     print('Eu vou prestar atenção na aula', x)\n",
    "     x = x + 1\n",
    "print('FIM')"
   ]
  },
  {
   "cell_type": "code",
   "execution_count": 14,
   "metadata": {},
   "outputs": [
    {
     "name": "stdout",
     "output_type": "stream",
     "text": [
      "10\n",
      "9\n",
      "8\n",
      "7\n",
      "6\n",
      "5\n",
      "4\n",
      "3\n",
      "2\n",
      "1\n",
      "0\n",
      "Feliz ano novo ✨\n"
     ]
    }
   ],
   "source": [
    "import time #Importando uma biblioteca do tempo\n",
    "x = 10\n",
    "while x >= 0 :\n",
    "    print(x)\n",
    "    time.sleep(0.5) #Dando uma pausa de 1s na execução \n",
    "    x = x - 1\n",
    "print('Feliz ano novo ✨')"
   ]
  },
  {
   "cell_type": "code",
   "execution_count": 15,
   "metadata": {},
   "outputs": [
    {
     "name": "stdout",
     "output_type": "stream",
     "text": [
      "Seja bem vindo, Mariáh\n"
     ]
    }
   ],
   "source": [
    "texto = ''\n",
    "while texto == '' :\n",
    "    texto = input('Digite seu nome (\"sair\" para terminar): ')\n",
    "    print(f'Seja bem vindo, {texto}')"
   ]
  },
  {
   "cell_type": "code",
   "execution_count": 25,
   "metadata": {},
   "outputs": [
    {
     "name": "stdout",
     "output_type": "stream",
     "text": [
      "você esta preso tentando hachear a rede\n",
      "FIM\n"
     ]
    }
   ],
   "source": [
    "senha_senai = '12345' \n",
    "nr_tentativa = 0\n",
    "while True :\n",
    "    senha = input('qual é a senha 🤔? \"Desisto\" para sair 🔒 ')\n",
    "    if senha == senha_senai :\n",
    "        print('Você hacheou a Rede')\n",
    "        break \n",
    "    if senha_senai == 'Desisto' : \n",
    "        break\n",
    "    else : \n",
    "        nr_tentativa = nr_tentativa + 1\n",
    "        if nr_tentativa == 3 :\n",
    "            print('você esta preso tentando hachear a rede')\n",
    "            break\n",
    "print('FIM') "
   ]
  }
 ],
 "metadata": {
  "kernelspec": {
   "display_name": "Python 3",
   "language": "python",
   "name": "python3"
  },
  "language_info": {
   "codemirror_mode": {
    "name": "ipython",
    "version": 3
   },
   "file_extension": ".py",
   "mimetype": "text/x-python",
   "name": "python",
   "nbconvert_exporter": "python",
   "pygments_lexer": "ipython3",
   "version": "3.12.2"
  }
 },
 "nbformat": 4,
 "nbformat_minor": 2
}
