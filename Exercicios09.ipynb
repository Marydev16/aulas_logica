{
 "cells": [
  {
   "cell_type": "markdown",
   "metadata": {},
   "source": [
    "1. Crie uma função sem parâmetros que exiba uma linha com 50 * , e uma mensagem de boas\n",
    "vindas, chame essa função por 4 vezes."
   ]
  },
  {
   "cell_type": "code",
   "execution_count": 2,
   "metadata": {},
   "outputs": [
    {
     "name": "stdout",
     "output_type": "stream",
     "text": [
      "**************************************************\n",
      "Bem-vindo!\n",
      "**************************************************\n",
      "Bem-vindo!\n",
      "**************************************************\n",
      "Bem-vindo!\n",
      "**************************************************\n",
      "Bem-vindo!\n"
     ]
    }
   ],
   "source": [
    "def exibir_linha_e_mensagem():\n",
    "    print('*' * 50)\n",
    "    print(\"Bem-vindo!\")\n",
    "\n",
    "# Chamando a função quatro vezes\n",
    "for _ in range(4):\n",
    "    exibir_linha_e_mensagem()"
   ]
  },
  {
   "cell_type": "markdown",
   "metadata": {},
   "source": [
    "2. Crie uma função que contenha uma lista com as cores primárias e exiba cada cor em uma\n",
    "linha."
   ]
  },
  {
   "cell_type": "code",
   "execution_count": 3,
   "metadata": {},
   "outputs": [
    {
     "name": "stdout",
     "output_type": "stream",
     "text": [
      "vermelho\n",
      "azul\n",
      "amarelo\n"
     ]
    }
   ],
   "source": [
    "def exibir_cores_primarias():\n",
    "    cores_primarias = [\"vermelho\", \"azul\", \"amarelo\"]\n",
    "    for cor in cores_primarias:\n",
    "        print(cor)\n",
    "\n",
    "exibir_cores_primarias()"
   ]
  },
  {
   "cell_type": "markdown",
   "metadata": {},
   "source": [
    "3. Crie uma função que recebe um número como parâmetro e exiba a tabuada até o 10, chame\n",
    "essa função por 3 vezes enviando parâmetros diferentes"
   ]
  },
  {
   "cell_type": "code",
   "execution_count": 7,
   "metadata": {},
   "outputs": [
    {
     "name": "stdout",
     "output_type": "stream",
     "text": [
      "10 x 0 = 0\n",
      "10 x 1 = 10\n",
      "10 x 2 = 20\n",
      "10 x 3 = 30\n",
      "10 x 4 = 40\n",
      "10 x 5 = 50\n",
      "10 x 6 = 60\n",
      "10 x 7 = 70\n",
      "10 x 8 = 80\n",
      "10 x 9 = 90\n",
      "10 x 10 = 100\n"
     ]
    }
   ],
   "source": [
    "def Tabuada(nr) :\n",
    "    for x in range(11) :\n",
    "        print(f'{nr} x {x} = {nr * x}')\n",
    "    \n",
    "Tabuada(10)"
   ]
  },
  {
   "cell_type": "markdown",
   "metadata": {},
   "source": [
    "4. Crie uma função que receba 2 números e o operador matemático para realizar a operação\n",
    "(Ex. envio os parâmetros 2 e 5 e *, fazer a multiplicação), tratar as operações + - * / **"
   ]
  },
  {
   "cell_type": "code",
   "execution_count": 8,
   "metadata": {},
   "outputs": [
    {
     "name": "stdout",
     "output_type": "stream",
     "text": [
      "42\n"
     ]
    }
   ],
   "source": [
    "def Calculadora(n1,n2, op) :\n",
    "    if op == '+' :\n",
    "        res = n1 + n2\n",
    "    elif op == '-' :\n",
    "        res = n1 - n2\n",
    "    elif op == '*' :\n",
    "        res = n1 * n2\n",
    "    elif op == '/' :\n",
    "        res = n1 / n2\n",
    "    elif op == '**' :\n",
    "        res = n1 ** n2\n",
    "    print(res)\n",
    "\n",
    "Calculadora(6, 7, '*')\n",
    "    "
   ]
  },
  {
   "cell_type": "markdown",
   "metadata": {},
   "source": [
    "5. Crie uma função que gere uma senha aleatória, deve receber como parâmetro a quantidade\n",
    "de caracteres que terá a senha, crie uma lista com todos os caracteres disponíveis para a\n",
    "senha e com o random sorteie a qual de dígitos terá a senha"
   ]
  },
  {
   "cell_type": "code",
   "execution_count": 12,
   "metadata": {},
   "outputs": [
    {
     "name": "stdout",
     "output_type": "stream",
     "text": [
      "dSSsJbZX\n"
     ]
    }
   ],
   "source": [
    "import random \n",
    "\n",
    "def SenhaAleatoria(tamanho) :\n",
    "    listaCaracteres = 'abcdefghijklmnopqrstuvwxyzABCDEFGHIJKLMNOPQRSTUVWXYZ'\n",
    "    senha = ''\n",
    "    for i in range(tamanho) :\n",
    "        senha = senha + random.choice(listaCaracteres)\n",
    "\n",
    "    return(senha)\n",
    "\n",
    "senhatemp = SenhaAleatoria(8)\n",
    "print(senhatemp)\n"
   ]
  }
 ],
 "metadata": {
  "kernelspec": {
   "display_name": "Python 3",
   "language": "python",
   "name": "python3"
  },
  "language_info": {
   "codemirror_mode": {
    "name": "ipython",
    "version": 3
   },
   "file_extension": ".py",
   "mimetype": "text/x-python",
   "name": "python",
   "nbconvert_exporter": "python",
   "pygments_lexer": "ipython3",
   "version": "3.12.3"
  }
 },
 "nbformat": 4,
 "nbformat_minor": 2
}
