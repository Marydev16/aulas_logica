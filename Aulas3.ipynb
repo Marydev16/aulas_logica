{
 "cells": [
  {
   "cell_type": "markdown",
   "metadata": {},
   "source": [
    "Aula 16/02/2024 - comandos de saída (print) / Tipos de dados (string, int, float, bool) / Operações Aritméticas ( + - * / % **)"
   ]
  },
  {
   "cell_type": "code",
   "execution_count": 26,
   "metadata": {},
   "outputs": [
    {
     "name": "stdout",
     "output_type": "stream",
     "text": [
      "olá mundo !!!\n",
      "Meu primeiro código em python. Usando aspas duplas\n",
      "Meu primeiro código em python. Usando aspas simples\n",
      "Para duplicar uma linha pressionei shift + alt + Seta Baixo\n",
      "123\n",
      "70.5\n",
      "True\n",
      "Sesi\n",
      "14\n",
      "86\n",
      "string 10 70.5 False\n"
     ]
    }
   ],
   "source": [
    "#Este é o meu primeiro código \n",
    "#a função print serve para exibir na tela alguma mensagem \n",
    "print('olá mundo !!!')\n",
    "print(\"Meu primeiro código em python. Usando aspas duplas\")\n",
    "print('Meu primeiro código em python. Usando aspas simples')\n",
    "print('Para duplicar uma linha pressionei shift + alt + Seta Baixo')\n",
    "print(123) #Estou exibindo um número inteiro, por isso, não preciso da \"\"\n",
    "print(70.5) #Número float \n",
    "print(True) #Campo lógico (Verdadeiro ou falso) (true ou false)\n",
    "print(\"Sesi\") #Tipo string\n",
    "# Somando 2 números inteiros (o sinal de + para 2 números realiza  a SOMA)\n",
    "print (8 + 6)\n",
    "# Porém se forem 2 strings (o sinal de + realiza a CONCATENAÇÃO)\n",
    "\n",
    "\n",
    "print ('8' + '6')\n",
    "\n",
    "#Posso Imprimir várias informações ao mesmo tempo separando-as por ,  \n",
    "print ('string', 10, 70.5, False)\n",
    "\n",
    "print( 10 + 50 ) # + é o operador de SOMA ( numero inteiro ou decimal)\n",
    "print ( 67 - 13 ) # - é o operador de SUBTRAÇÃO (nº inteiro ou decimal)\n",
    "print ( 4214328 * 312321) # * é o operador de MULTIPLICAÇÃO\n",
    "print ( 4827 / 3 ) # / é o operador de DIVISÃO\n",
    "print ( 31 % 2 ) # % é o operador do resto da divisão (MÓDULO)\n",
    "print( 3 ** 3 ) # ** é o operador de exponenciação 3³\n",
    "\n",
    "print ( (8 + 6) / 2) # O Parêntese define a maior ordem de precedência "
   ]
  },
  {
   "cell_type": "markdown",
   "metadata": {},
   "source": [
    "Aula 22/02/2024 - Comandos de entrada (input) / Variáveis / Pseudocódigo"
   ]
  },
  {
   "cell_type": "code",
   "execution_count": null,
   "metadata": {},
   "outputs": [],
   "source": [
    "#Declarando minha primeira variável \n",
    "#lemos da seguinte forma:\n",
    "#variavel curso recebe(=) a string \"Desenvolvimento de Sistemas\"\n",
    "#Receba/Armazene o texto Desenvolvimento de sistemas\n",
    "curso = \"Desenvolvimento de Sistemas\"\n",
    "#Exiba o valor armazenado \n",
    "print(\"curso\")  # Para imprimir uma variável não se coloca entre \" \"\n",
    "print(curso)    # Jeito correte de utilizar uma variável \n",
    "print(\"curso\", curso)\n",
    "\n",
    "#Criando e atribuindo uma variavel\n",
    "idade = 15 \n",
    "temperatura = 23.5\n",
    "nome = \"Mariáh\"\n",
    "#Exiba o valor das 3 variáveis \n",
    "print(\"Olá\", nome , \", você tem\" , idade , \"anos, hoje ta fazendo\" , temperatura )\n",
    "\n",
    "#Declarando variáveis lógicos, recebe apenas True ou false \n",
    "chovendo = False \n",
    "dia = True \n",
    "\n",
    "# Nesta linha abaixo ocorrerá um erro pois não existe uma variavel com o \n",
    "# nome salario, então não consegue encontrar nada para exibir \n",
    "# NameError: 'salario' is not defined\n",
    "# print(\"Salario\", salario)\n",
    "\n",
    "#Declarando um constante, diferentemente da variável que posso alterar o valor \n",
    "# na constante não é permitido, declaramos com o nome todo e maiuscula \n",
    "PI = 3.1415\n",
    "\n",
    "print(nome, idade)\n",
    "idade = 34\n",
    "nome = \"Ricardo\"\n",
    "print(nome, idade)\n",
    "\n",
    "#Passo 1: Receber o nome da pessoa\n",
    "#No input sempre recebemos um string  \n",
    "nome = input('Qual é o seu nome?')\n",
    "#Passo 2: Receber a idade da pessoa  \n",
    "#Posso converter essa string recebida do tipo inteiro\n",
    "idade = int(input('qual é a sua idade?'))\n",
    "#Passo 3: Receber o peso da pessoa  \n",
    "#Posso converter essa string recebida float\n",
    "peso = float(input('Qual é o seu peso?'))\n",
    "#Passo 4: Exibir o nome, a idade e o peso \n",
    "print(nome, idade, peso)\n",
    "print (f'Seu nome é {nome}, você tem {idade} anos e pesa {peso}kg')\n",
    "\n",
    "#Exibindo os tipos das variaveis \n",
    "#Tudo que recebemos do input é do tipo string\n",
    "print(type(nome), type(idade), type(peso))\n"
   ]
  },
  {
   "cell_type": "markdown",
   "metadata": {},
   "source": [
    "29/02/2024 - Operadores relacionais e estrutura condicional \n"
   ]
  },
  {
   "cell_type": "code",
   "execution_count": 8,
   "metadata": {},
   "outputs": [
    {
     "name": "stdout",
     "output_type": "stream",
     "text": [
      "a > b ? False \n",
      "a == b ? False\n",
      "a != b ? True\n",
      "a > b ? False\n",
      "a >= b ? True\n"
     ]
    }
   ],
   "source": [
    "a = 2\n",
    "b = 3\n",
    "print(f'a > b ? {a > b} ')\n",
    "print(f'a == b ? {a == b}')\n",
    "print(f'a != b ? {a != b}')\n",
    "print(f'a > b ? {a > 2}')\n",
    "print(f'a >= b ? {a >= 2}')"
   ]
  },
  {
   "cell_type": "code",
   "execution_count": 10,
   "metadata": {},
   "outputs": [
    {
     "name": "stdout",
     "output_type": "stream",
     "text": [
      "posso entrar\n",
      "fim\n"
     ]
    }
   ],
   "source": [
    "tenhoIngresso = True \n",
    "if tenhoIngresso == True :\n",
    "    print('posso entrar')\n",
    "    print('fim')"
   ]
  },
  {
   "cell_type": "code",
   "execution_count": 14,
   "metadata": {},
   "outputs": [
    {
     "name": "stdout",
     "output_type": "stream",
     "text": [
      "FIM\n"
     ]
    }
   ],
   "source": [
    "# Passo 1: Receber o valor da idade\n",
    "idade = int(input('Qual sua idade'))\n",
    "#Passo 2: verificar SE é maior ou igual a 18 ENTÃO\n",
    "if idade >= 18 :\n",
    "    #Passo 3: Se for Exibir \"Maior idade\"\n",
    "    print(\"Maior idade\")\n",
    "\n",
    "if idade == 18 :\n",
    "print('FIM')\n"
   ]
  },
  {
   "cell_type": "code",
   "execution_count": 18,
   "metadata": {},
   "outputs": [
    {
     "name": "stdout",
     "output_type": "stream",
     "text": [
      "posso entrar\n",
      "FIM\n"
     ]
    }
   ],
   "source": [
    "tenhoIngresso = True \n",
    "if tenhoIngresso == True :\n",
    "    print('posso entrar')\n",
    "else : \n",
    "    print('fim')\n",
    "print('FIM')"
   ]
  },
  {
   "cell_type": "code",
   "execution_count": 19,
   "metadata": {},
   "outputs": [
    {
     "name": "stdout",
     "output_type": "stream",
     "text": [
      "Maior de idade\n",
      "FIM\n"
     ]
    }
   ],
   "source": [
    "# Passo 1: Receber o valor da idade\n",
    "idade = int(input('Qual sua idade'))\n",
    "#Passo 2: verificar SE é maior ou igual a 18 ENTÃO\n",
    "if idade >= 18 :\n",
    "    #Passo 3: Se for Exibir \"Maior idade\"\n",
    "    print(\"Maior de idade\")\n",
    "else:\n",
    "    print('menor de idade')\n",
    "\n",
    "print('FIM')"
   ]
  },
  {
   "cell_type": "markdown",
   "metadata": {},
   "source": [
    "01/03/2024 - Operadores Lógicos e Estrutura condicional "
   ]
  },
  {
   "cell_type": "code",
   "execution_count": 3,
   "metadata": {},
   "outputs": [
    {
     "name": "stdout",
     "output_type": "stream",
     "text": [
      "False\n",
      "False\n",
      "False\n",
      "True\n"
     ]
    }
   ],
   "source": [
    "a = 2\n",
    "b = 3\n",
    "c = 5\n",
    "#False e False \n",
    "print((a > 2) and (b < 2)) #False \n",
    "#False e False\n",
    "print((a > 2) or (b < 2)) #False\n",
    "#False e False \n",
    "print((a > 2) or (b < 2)) #True\n",
    "\n",
    "idade = 18 \n",
    "#FalseTrue\n",
    "print(idade > 18 or idade == 18)  #True \n",
    "#idade >=v18\n"
   ]
  },
  {
   "cell_type": "code",
   "execution_count": 12,
   "metadata": {},
   "outputs": [
    {
     "name": "stdout",
     "output_type": "stream",
     "text": [
      "Peso ideal!\n"
     ]
    }
   ],
   "source": [
    "altura = float(input('Digite sua altura'))\n",
    "peso = float(input('Digite seu peso'))\n",
    "imc =  peso / (altura ** 2)\n",
    "if imc < 18.5:\n",
    "    print('Abaixo do peso ideal')\n",
    "elif imc >= 18.6 and imc <= 24.9:\n",
    "    print('Peso ideal!')\n",
    "elif imc >= 25 and imc <= 29.9:\n",
    "    print('Sobrepeso')\n",
    "else: \n",
    "    print ('Obesidade')"
   ]
  },
  {
   "cell_type": "code",
   "execution_count": 15,
   "metadata": {},
   "outputs": [
    {
     "name": "stdout",
     "output_type": "stream",
     "text": [
      "Triangulo Escaleno\n"
     ]
    }
   ],
   "source": [
    "lado1 = input('Digite lado 1:')\n",
    "lado2 = input('Digite lado 2:')\n",
    "lado3 = input('Digite lado 3:')\n",
    "if (lado1 == lado2) and (lado2 == lado3):\n",
    "    print('Triangulo Equilátero')\n",
    "elif (lado1 != lado2) and (lado2 != lado3) and (lado1 != lado3):\n",
    "    print('Triangulo Escaleno')\n",
    "else:\n",
    "    Print('Triangulo Isósceles')"
   ]
  },
  {
   "cell_type": "code",
   "execution_count": 16,
   "metadata": {},
   "outputs": [
    {
     "name": "stdout",
     "output_type": "stream",
     "text": [
      "a letra k E uma consoante\n"
     ]
    }
   ],
   "source": [
    "letra = input(\"Digite uma letra:\")\n",
    "if letra == 'a' or letra == 'e' or letra == 'i' or letra == 'o' or letra == 'u' :\n",
    "    print(f'a letra {letra} é uma vogal')\n",
    "elif letra == '1' or letra == '2' or letra == '3' or letra == '4' or letra == '5' or letra == '6' or letra == '7' or letra == '8' or letra '9':\n",
    "else:\n",
    "    print(f'a letra {letra} E uma consoante')"
   ]
  }
 ],
 "metadata": {
  "kernelspec": {
   "display_name": "Python 3",
   "language": "python",
   "name": "python3"
  },
  "language_info": {
   "codemirror_mode": {
    "name": "ipython",
    "version": 3
   },
   "file_extension": ".py",
   "mimetype": "text/x-python",
   "name": "python",
   "nbconvert_exporter": "python",
   "pygments_lexer": "ipython3",
   "version": "3.12.2"
  }
 },
 "nbformat": 4,
 "nbformat_minor": 2
}
