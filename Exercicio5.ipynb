{
 "cells": [
  {
   "cell_type": "markdown",
   "metadata": {},
   "source": [
    "1. Utilizando o comando while, exiba todos os números pares, de 1 a 20"
   ]
  },
  {
   "cell_type": "code",
   "execution_count": 116,
   "metadata": {},
   "outputs": [
    {
     "name": "stdout",
     "output_type": "stream",
     "text": [
      "O numero 2 é par\n",
      "O numero 4 é par\n",
      "O numero 6 é par\n",
      "O numero 8 é par\n",
      "O numero 10 é par\n",
      "O numero 12 é par\n",
      "O numero 14 é par\n",
      "O numero 16 é par\n",
      "O numero 18 é par\n",
      "O numero 20 é par\n"
     ]
    }
   ],
   "source": [
    "x = 1 \n",
    "while x <= 20 :\n",
    "    if x % 2 == 0 :\n",
    "        print(f'O numero {x} é par')\n",
    "    x = x + 1"
   ]
  },
  {
   "cell_type": "markdown",
   "metadata": {},
   "source": [
    "2. Gere os 6 números do sorteio da mega-sena de forma aleatória"
   ]
  },
  {
   "cell_type": "code",
   "execution_count": 127,
   "metadata": {},
   "outputs": [
    {
     "name": "stdout",
     "output_type": "stream",
     "text": [
      "19\n",
      "30\n",
      "24\n",
      "25\n",
      "19\n",
      "5\n"
     ]
    }
   ],
   "source": [
    "import random\n",
    "x = 1\n",
    "nr = random.randint(1,30)\n",
    "print (nr)\n",
    "nr = random.randint(1,30)\n",
    "print (nr)\n",
    "nr = random.randint(1,30)\n",
    "print (nr)\n",
    "nr = random.randint(1,30)\n",
    "print (nr)\n",
    "nr = random.randint(1,30)\n",
    "print (nr)\n",
    "nr = random.randint(1,30)\n",
    "print (nr)\n"
   ]
  },
  {
   "cell_type": "markdown",
   "metadata": {},
   "source": [
    "3. Receba alguns número e verifique a soma e a quantidade de todos os pares e ímpares\n",
    "digitados, digite 0 para não receber mais"
   ]
  },
  {
   "cell_type": "code",
   "execution_count": 149,
   "metadata": {},
   "outputs": [
    {
     "ename": "ValueError",
     "evalue": "invalid literal for int() with base 10: ''",
     "output_type": "error",
     "traceback": [
      "\u001b[1;31m---------------------------------------------------------------------------\u001b[0m",
      "\u001b[1;31mValueError\u001b[0m                                Traceback (most recent call last)",
      "Cell \u001b[1;32mIn[149], line 5\u001b[0m\n\u001b[0;32m      2\u001b[0m qtde \u001b[38;5;241m=\u001b[39m \u001b[38;5;241m0\u001b[39m\n\u001b[0;32m      4\u001b[0m \u001b[38;5;28;01mwhile\u001b[39;00m \u001b[38;5;28;01mTrue\u001b[39;00m :\n\u001b[1;32m----> 5\u001b[0m     nr \u001b[38;5;241m=\u001b[39m \u001b[38;5;28;43mint\u001b[39;49m\u001b[43m(\u001b[49m\u001b[38;5;28;43minput\u001b[39;49m\u001b[43m(\u001b[49m\u001b[38;5;124;43m'\u001b[39;49m\u001b[38;5;124;43mDigite o valor do produto [0 para encerrar]\u001b[39;49m\u001b[38;5;124;43m'\u001b[39;49m\u001b[43m)\u001b[49m\u001b[43m)\u001b[49m   \n\u001b[0;32m      6\u001b[0m     \u001b[38;5;28;01mif\u001b[39;00m nr \u001b[38;5;241m==\u001b[39m \u001b[38;5;241m0\u001b[39m :\n\u001b[0;32m      7\u001b[0m         \u001b[38;5;28;01mbreak\u001b[39;00m\n",
      "\u001b[1;31mValueError\u001b[0m: invalid literal for int() with base 10: ''"
     ]
    }
   ],
   "source": [
    "soma = 0\n",
    "qtde = 0\n",
    "\n",
    "while True :\n",
    "    nr = int(input('Digite o valor do produto [0 para encerrar]'))   \n",
    "    if nr == 0 :\n",
    "        break\n",
    "    if nr % 2 == 0 :\n",
    "      qtdePar += 1  # qtdePar = qtdepar + 1\n",
    "    if nr % 2 == 1 : \n",
    "        qtdeImpar += 1  # qtdeImpar = qtdeImpar + 1 \n",
    "    soma += nr\n",
    "    \n",
    "\n",
    "print ( f'A soma é {soma} são {qtdepar} pares e {qtdeimpar} impares ')"
   ]
  },
  {
   "cell_type": "markdown",
   "metadata": {},
   "source": [
    "4. Faça um programa em Python que leia 5 valores inteiros e:\n",
    "\n",
    "• Encontre e mostre o maior valor\n",
    "\n",
    "• Encontre e mostre o menor valor\n",
    "\n",
    "• Calcule e mostre a média dos números lidos"
   ]
  },
  {
   "cell_type": "code",
   "execution_count": 112,
   "metadata": {},
   "outputs": [],
   "source": [
    "#leia um valor 5 vezes\n",
    "\n",
    "#Valide se esse numero e maior ou se e menor\n",
    "\n",
    "#Calcule e mostre a media dos numeros lidos"
   ]
  }
 ],
 "metadata": {
  "kernelspec": {
   "display_name": "Python 3",
   "language": "python",
   "name": "python3"
  },
  "language_info": {
   "codemirror_mode": {
    "name": "ipython",
    "version": 3
   },
   "file_extension": ".py",
   "mimetype": "text/x-python",
   "name": "python",
   "nbconvert_exporter": "python",
   "pygments_lexer": "ipython3",
   "version": "3.12.2"
  }
 },
 "nbformat": 4,
 "nbformat_minor": 2
}
