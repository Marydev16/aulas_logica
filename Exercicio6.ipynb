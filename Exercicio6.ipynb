{
 "cells": [
  {
   "cell_type": "markdown",
   "metadata": {},
   "source": [
    "1. Utilizando o comando for, exiba todos os números ímpares, de 1 a 40.\n"
   ]
  },
  {
   "cell_type": "code",
   "execution_count": 12,
   "metadata": {},
   "outputs": [
    {
     "name": "stdout",
     "output_type": "stream",
     "text": [
      "1\n",
      "3\n",
      "5\n",
      "7\n",
      "9\n",
      "11\n",
      "13\n",
      "15\n",
      "17\n",
      "19\n",
      "21\n",
      "23\n",
      "25\n",
      "27\n",
      "29\n",
      "31\n",
      "33\n",
      "35\n",
      "37\n",
      "39\n",
      "O numero 40 é impar\n"
     ]
    }
   ],
   "source": [
    "for x in range (1, 40, 2) :\n",
    "    print(x)\n",
    "while x <= 40 :\n",
    "    if x % 4 == 0 :\n",
    "        print(f'O numero {x} é impar')\n",
    "    x = x + 1"
   ]
  },
  {
   "cell_type": "markdown",
   "metadata": {},
   "source": [
    "2. Gere os 6 números do sorteio da mega-sena de forma aleatória"
   ]
  },
  {
   "cell_type": "code",
   "execution_count": 40,
   "metadata": {},
   "outputs": [
    {
     "name": "stdout",
     "output_type": "stream",
     "text": [
      "21\n",
      "17\n",
      "42\n",
      "31\n",
      "54\n",
      "19\n"
     ]
    }
   ],
   "source": [
    "import random\n",
    "for x in range (1,7) :\n",
    "    nr = random.randint(1,60)\n",
    "    print (nr)\n"
   ]
  },
  {
   "cell_type": "markdown",
   "metadata": {},
   "source": [
    "3. Receba 5 números e verifique a soma e a quantidade de todos os pares e ímpares digitados"
   ]
  },
  {
   "cell_type": "code",
   "execution_count": 57,
   "metadata": {},
   "outputs": [
    {
     "name": "stdout",
     "output_type": "stream",
     "text": [
      "A soma é 18 são 3 pares e 2 impares \n"
     ]
    }
   ],
   "source": [
    "qtdePar = 0\n",
    "qtdeImpar = 0\n",
    "soma = 0\n",
    "for x in range (5) :\n",
    "\n",
    "    nr = int(input('Digite o valor do produto [0 para encerrar]'))   \n",
    "    if nr % 2 == 0 :\n",
    "      qtdePar += 1  # qtdePar = qtdepar + 1\n",
    "    if nr % 2 == 1 : \n",
    "        qtdeImpar += 1  # qtdeImpar = qtdeImpar + 1 \n",
    "    soma = nr + soma \n",
    "    \n",
    "\n",
    "print ( f'A soma é {soma} são {qtdePar} pares e {qtdeImpar} impares ')"
   ]
  },
  {
   "cell_type": "markdown",
   "metadata": {},
   "source": [
    "4. Solicite os parâmetros de início, fim e passo para o laço de repetição usando a função range()\n",
    "e exiba o valor atual da variável de controle a cada iteração.                                    \n",
    "range( x , y , z )"
   ]
  },
  {
   "cell_type": "code",
   "execution_count": 78,
   "metadata": {},
   "outputs": [
    {
     "ename": "ValueError",
     "evalue": "invalid literal for int() with base 10: ''",
     "output_type": "error",
     "traceback": [
      "\u001b[1;31m---------------------------------------------------------------------------\u001b[0m",
      "\u001b[1;31mValueError\u001b[0m                                Traceback (most recent call last)",
      "Cell \u001b[1;32mIn[78], line 1\u001b[0m\n\u001b[1;32m----> 1\u001b[0m inicio \u001b[38;5;241m=\u001b[39m \u001b[38;5;28;43mint\u001b[39;49m\u001b[43m(\u001b[49m\u001b[38;5;28;43minput\u001b[39;49m\u001b[43m(\u001b[49m\u001b[38;5;124;43m'\u001b[39;49m\u001b[38;5;124;43mSolicite os parametros de inicio:\u001b[39;49m\u001b[38;5;124;43m'\u001b[39;49m\u001b[43m)\u001b[49m\u001b[43m)\u001b[49m\n\u001b[0;32m      2\u001b[0m fim \u001b[38;5;241m=\u001b[39m \u001b[38;5;28mint\u001b[39m(\u001b[38;5;28minput\u001b[39m(\u001b[38;5;124m'\u001b[39m\u001b[38;5;124mSolicite os parametros de fim\u001b[39m\u001b[38;5;124m'\u001b[39m))\n\u001b[0;32m      3\u001b[0m passo \u001b[38;5;241m=\u001b[39m \u001b[38;5;28mint\u001b[39m(\u001b[38;5;28minput\u001b[39m(\u001b[38;5;124m'\u001b[39m\u001b[38;5;124mSolicite os parametros de passo\u001b[39m\u001b[38;5;124m'\u001b[39m))\n",
      "\u001b[1;31mValueError\u001b[0m: invalid literal for int() with base 10: ''"
     ]
    }
   ],
   "source": [
    "inicio = int(input('Solicite os parametros de inicio:'))\n",
    "fim = int(input('Solicite os parametros de fim'))\n",
    "passo = int(input('Solicite os parametros de passo'))\n",
    "for x in range (inicio, fim, passo) :\n",
    "    print (x)\n"
   ]
  },
  {
   "cell_type": "markdown",
   "metadata": {},
   "source": [
    "5. Ler do teclado a idade e o sexo de 10 pessoas, calcule e imprima:\n",
    "\n",
    "• idade média das mulheres\n",
    "\n",
    "• idade média dos homens\n",
    "\n",
    "• idade média do grupo"
   ]
  },
  {
   "cell_type": "code",
   "execution_count": 73,
   "metadata": {},
   "outputs": [
    {
     "ename": "SyntaxError",
     "evalue": "invalid syntax (1885412212.py, line 9)",
     "output_type": "error",
     "traceback": [
      "\u001b[1;36m  Cell \u001b[1;32mIn[73], line 9\u001b[1;36m\u001b[0m\n\u001b[1;33m    media = soma /  #  pega soma das idades e divide pelo numero de pessoas\u001b[0m\n\u001b[1;37m                    ^\u001b[0m\n\u001b[1;31mSyntaxError\u001b[0m\u001b[1;31m:\u001b[0m invalid syntax\n"
     ]
    }
   ],
   "source": [
    "for x in range(1,4):\n",
    "\n",
    "    nome = input('Digite o seu nome: ')\n",
    "    sexo = input('Masculino ou Feminino ? [M/F]')\n",
    "    idade = int(input('Digite a sua idade : '))\n",
    "    print('-'*20)\n",
    "\n",
    "    soma = soma + idade #  faz a soma entre todas as idades\n",
    "    media = soma /  #  pega soma das idades e divide pelo numero de pessoas\n",
    "\n"
   ]
  }
 ],
 "metadata": {
  "kernelspec": {
   "display_name": "Python 3",
   "language": "python",
   "name": "python3"
  },
  "language_info": {
   "codemirror_mode": {
    "name": "ipython",
    "version": 3
   },
   "file_extension": ".py",
   "mimetype": "text/x-python",
   "name": "python",
   "nbconvert_exporter": "python",
   "pygments_lexer": "ipython3",
   "version": "3.12.2"
  }
 },
 "nbformat": 4,
 "nbformat_minor": 2
}
