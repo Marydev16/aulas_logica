{
 "cells": [
  {
   "cell_type": "markdown",
   "metadata": {},
   "source": [
    "Desafios Python\n",
    "\n",
    "00 - Faça um programa que leia algo pelo teclado e mostre na tela o seu tipo primitivo."
   ]
  },
  {
   "cell_type": "code",
   "execution_count": 8,
   "metadata": {},
   "outputs": [
    {
     "name": "stdout",
     "output_type": "stream",
     "text": [
      "7.0\n",
      "<class 'float'>\n"
     ]
    }
   ],
   "source": [
    "#Receber o primeiro objeto\n",
    "Resultado1 = float(input('Digite o seu primeiro objeto: '))\n",
    "#Receber o segundo objeto\n",
    "Resultado2 = float(input('Digite o segundo objeto: '))\n",
    "#Exibir o resultado \n",
    "print(Resultado1)\n",
    "print(type(Resultado2))\n"
   ]
  },
  {
   "cell_type": "markdown",
   "metadata": {},
   "source": [
    "01 - Crie um programa que leia dois números e mostre a soma entre eles."
   ]
  },
  {
   "cell_type": "code",
   "execution_count": 10,
   "metadata": {},
   "outputs": [
    {
     "name": "stdout",
     "output_type": "stream",
     "text": [
      "3.0\n",
      "<class 'float'>\n"
     ]
    }
   ],
   "source": [
    "#Receber o primeiro número \n",
    "numero1 = float(input('Digite o seu primeiro número: '))\n",
    "#Receber o segundo número \n",
    "numero2 = float(input('Digite o segundo número: '))\n",
    "soma = numero1 + numero2\n",
    "#Exibir o resultado \n",
    "print(soma)\n",
    "print(type(soma))"
   ]
  },
  {
   "cell_type": "markdown",
   "metadata": {},
   "source": [
    "02 - Crie um programa que leia um número inteiro e mostre na tela o seu sucessor e antecessor."
   ]
  },
  {
   "cell_type": "code",
   "execution_count": 14,
   "metadata": {},
   "outputs": [
    {
     "name": "stdout",
     "output_type": "stream",
     "text": [
      "44.0\n",
      "46.0\n"
     ]
    }
   ],
   "source": [
    "numero1 = float(input('Digite um número'))\n",
    "antecessor = numero1 - 1\n",
    "print(antecessor)\n",
    "sucessor = numero1 + 1\n",
    "print(sucessor)\n"
   ]
  },
  {
   "cell_type": "markdown",
   "metadata": {},
   "source": [
    "03 - Crie um programa que leia um número e mostre o seu dobro, triplo e raiz quadrada."
   ]
  },
  {
   "cell_type": "code",
   "execution_count": 18,
   "metadata": {},
   "outputs": [
    {
     "name": "stdout",
     "output_type": "stream",
     "text": [
      "o dobro do numero 4.0 é 8.0\n",
      "o triplo do numero 4.0 é 12.0\n",
      "a raiz quadrada do numero 4.0 é 2.0\n"
     ]
    }
   ],
   "source": [
    "numero = float(input('Digite um numero'))\n",
    "\n",
    "numero_dobro = 2 * numero\n",
    "numero_triplo = 3 * numero \n",
    "numero_raizquadrada = numero ** 0.5\n",
    "print(f'o dobro do numero {numero} é {numero_dobro}')\n",
    "print(f'o triplo do numero {numero} é {numero_triplo}')\n",
    "print(f'a raiz quadrada do numero {numero} é {numero_raizquadrada}')"
   ]
  },
  {
   "cell_type": "markdown",
   "metadata": {},
   "source": [
    "04 - Crie um programa que leia duas notas de um aluno, calcule e mostre sua média."
   ]
  },
  {
   "cell_type": "code",
   "execution_count": 19,
   "metadata": {},
   "outputs": [
    {
     "name": "stdout",
     "output_type": "stream",
     "text": [
      "9.5\n"
     ]
    }
   ],
   "source": [
    "nota1 = float(input('Digite a primeira nota'))\n",
    "nota2 = float(input('Digite a segunda nota'))\n",
    "media = nota1 + nota2 \n",
    "total = media / 2\n",
    "print(total)"
   ]
  },
  {
   "cell_type": "markdown",
   "metadata": {},
   "source": [
    "05 - Crie um programa que leia o valor em metros e o exiba convertido em centímetros e milímetros."
   ]
  },
  {
   "cell_type": "code",
   "execution_count": 1,
   "metadata": {},
   "outputs": [
    {
     "name": "stdout",
     "output_type": "stream",
     "text": [
      "convertido em centímetros 7800.0, e em milímetros 78000.0\n"
     ]
    }
   ],
   "source": [
    "metro = float(input('Digite valor em metros'))\n",
    "centimetros = metro * 100\n",
    "milimetros = metro * 1000\n",
    "print(f'convertido em centímetros {centimetros}, e em milímetros {milimetros}')"
   ]
  },
  {
   "cell_type": "markdown",
   "metadata": {},
   "source": [
    "06 - Crie um programa que leia um numero qualquer e mostre\n",
    "na tela a sua tabuada."
   ]
  },
  {
   "cell_type": "code",
   "execution_count": 12,
   "metadata": {},
   "outputs": [
    {
     "name": "stdout",
     "output_type": "stream",
     "text": [
      "74.0 x 1 = 74.0\n",
      "74.0 x 2 = 148.0\n",
      "74.0 x 3 = 222.0\n",
      "74.0 x 4 = 296.0\n",
      "74.0 x 5 = 370.0\n",
      "74.0 x 6 = 444.0\n",
      "74.0 x 7 = 518.0\n",
      "74.0 x 8 = 592.0\n",
      "74.0 x 9 = 666.0\n",
      "74.0 x 10 = 740.0\n"
     ]
    }
   ],
   "source": [
    "numero = float(input(\"digite o número aqui\"))\n",
    "um = numero * 1\n",
    "dois = numero * 2\n",
    "tres = numero * 3\n",
    "quatro = numero * 4\n",
    "cinco = numero * 5\n",
    "seis = numero * 6\n",
    "sete = numero * 7\n",
    "oito = numero * 8\n",
    "nove = numero * 9\n",
    "dez = numero * 10\n",
    "print(f'{numero} x 1 = {um}')   \n",
    "print(f'{numero} x 2 = {dois}')   \n",
    "print(f'{numero} x 3 = {tres}')   \n",
    "print(f'{numero} x 4 = {quatro}')   \n",
    "print(f'{numero} x 5 = {cinco}')   \n",
    "print(f'{numero} x 6 = {seis}')   \n",
    "print(f'{numero} x 7 = {sete}')   \n",
    "print(f'{numero} x 8 = {oito}')   \n",
    "print(f'{numero} x 9 = {nove}')   \n",
    "print(f'{numero} x 10 = {dez}')  "
   ]
  },
  {
   "cell_type": "markdown",
   "metadata": {},
   "source": [
    "07 - Crie um programa que leia quanto dinheiro a pessoa tem na\n",
    "carteira e mostre quantos dólares ela pode contar."
   ]
  },
  {
   "cell_type": "code",
   "execution_count": 3,
   "metadata": {},
   "outputs": [
    {
     "name": "stdout",
     "output_type": "stream",
     "text": [
      "18.218623481781375\n"
     ]
    }
   ],
   "source": [
    "valor = float(input('digite o valor'))\n",
    "dolar = (valor / 2.47)\n",
    "print(f'{dolar}')"
   ]
  },
  {
   "cell_type": "markdown",
   "metadata": {},
   "source": [
    "08 - Crie um programa que leia a largura e a altura de uma\n",
    "parede em metros, calcule a sua área e a quantidade de tinta\n",
    "necessária para pintá-lo, sabendo que cada litro de tinta pinta\n",
    "uma área de 2m2."
   ]
  },
  {
   "cell_type": "code",
   "execution_count": 4,
   "metadata": {},
   "outputs": [
    {
     "name": "stdout",
     "output_type": "stream",
     "text": [
      "35.0m2 aréa da parede\n",
      "17.5 litros de tinta\n"
     ]
    }
   ],
   "source": [
    "largura = float(input('digite a largura da parede'))\n",
    "altura = float(input('digite a altura da parede'))\n",
    "area = (altura * largura)\n",
    "print(f'{area}m2 aréa da parede')\n",
    "tinta = (area / 2)\n",
    "print(f'{tinta} litros de tinta')"
   ]
  },
  {
   "cell_type": "markdown",
   "metadata": {},
   "source": [
    "09 - Faça um algoritmo que leia o preço do produto e mostre\n",
    "seu novo preço com 5% de desconto."
   ]
  },
  {
   "cell_type": "code",
   "execution_count": 6,
   "metadata": {},
   "outputs": [
    {
     "name": "stdout",
     "output_type": "stream",
     "text": [
      "O valor do produto com desconto de 5% é 42.75\n"
     ]
    }
   ],
   "source": [
    "produto = float(input('Digite o valor do produto: '))\n",
    "desconto = (produto / 100) * 5\n",
    "produto_com_desconto = produto - desconto\n",
    "print(f'O valor do produto com desconto de 5% é {produto_com_desconto:}')"
   ]
  },
  {
   "cell_type": "markdown",
   "metadata": {},
   "source": [
    "10 - Faça um algoritmo que leia o salário do funcionário e\n",
    "mostre seu novo salário com 15% de aumento."
   ]
  },
  {
   "cell_type": "code",
   "execution_count": 13,
   "metadata": {},
   "outputs": [
    {
     "name": "stdout",
     "output_type": "stream",
     "text": [
      "89.7\n"
     ]
    }
   ],
   "source": [
    "salario = float(input('digite o salario'))\n",
    "aumento = (salario / 100) * 15\n",
    "salario = salario + aumento \n",
    "print(salario)"
   ]
  },
  {
   "cell_type": "markdown",
   "metadata": {},
   "source": [
    "11 - Faça um algoritmo que receba um valor em graus Celsius e\n",
    "converta para farenheit."
   ]
  },
  {
   "cell_type": "code",
   "execution_count": 14,
   "metadata": {},
   "outputs": [
    {
     "name": "stdout",
     "output_type": "stream",
     "text": [
      "8.0ºC é igual a 46.4ºF\n"
     ]
    }
   ],
   "source": [
    "graus = float(input('digite a temperatura em ºC'))\n",
    "valor = graus * 1.8 + 32\n",
    "print(f'{graus}ºC é igual a {valor}ºF')"
   ]
  },
  {
   "cell_type": "markdown",
   "metadata": {},
   "source": [
    "12 - Faça um algoritmo que pergunte a quantidade de km\n",
    "percorridos por um carro alugado e a quantidade de dias pelos\n",
    "quais ele foi alugado. Calcule o preço a pagar, sabendo que o\n",
    "carro custa R$60 por dia e R$0.15 por km rodado."
   ]
  },
  {
   "cell_type": "code",
   "execution_count": 15,
   "metadata": {},
   "outputs": [
    {
     "name": "stdout",
     "output_type": "stream",
     "text": [
      "O valor total será de R$ 2025.00\n"
     ]
    }
   ],
   "source": [
    "Km_percorrido = float(input('digite o Km percorrido'))\n",
    "dias = int(input('digite a quantidade de dias'))\n",
    "pagar = (60 * dias) * (0.15 * Km_percorrido)\n",
    "print (f'O valor total será de R$ {pagar:.2f}')"
   ]
  }
 ],
 "metadata": {
  "kernelspec": {
   "display_name": "Python 3",
   "language": "python",
   "name": "python3"
  },
  "language_info": {
   "codemirror_mode": {
    "name": "ipython",
    "version": 3
   },
   "file_extension": ".py",
   "mimetype": "text/x-python",
   "name": "python",
   "nbconvert_exporter": "python",
   "pygments_lexer": "ipython3",
   "version": "3.12.2"
  }
 },
 "nbformat": 4,
 "nbformat_minor": 2
}
