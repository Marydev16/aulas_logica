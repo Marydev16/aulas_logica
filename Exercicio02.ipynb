{
 "cells": [
  {
   "cell_type": "markdown",
   "metadata": {},
   "source": [
    "1. Leia 2 notas de um aluno, calcule a média e imprima aprovado ou reprovado (para ser\n",
    "aprovado a média deve ser no mínimo 7)"
   ]
  },
  {
   "cell_type": "code",
   "execution_count": 49,
   "metadata": {},
   "outputs": [
    {
     "name": "stdout",
     "output_type": "stream",
     "text": [
      "Aprovado\n"
     ]
    }
   ],
   "source": [
    "nota1 = float(input('Digite a primeira nota'))\n",
    "nota2 = float(input('Digite a segunda nota'))\n",
    "media = (nota1 + nota2) / 2\n",
    "if media >= 7:\n",
    "    print('Aprovado')\n",
    "else:\n",
    "    print('Reprovado')\n"
   ]
  },
  {
   "cell_type": "markdown",
   "metadata": {},
   "source": [
    "2. Peça dois números ao usuário e mostre qual o maior e qual o menor"
   ]
  },
  {
   "cell_type": "code",
   "execution_count": 3,
   "metadata": {},
   "outputs": [
    {
     "name": "stdout",
     "output_type": "stream",
     "text": [
      "7.0 é maior que 5.0\n"
     ]
    }
   ],
   "source": [
    "numero1 = float(input('Digite um número'))\n",
    "numero2 = float(input('Digite um número'))\n",
    "if numero1 > numero2 :\n",
    "    print(f'{numero1} é maior que {numero2}')\n",
    "else:\n",
    "    print(f'{numero2} é maior que {numero1}')\n"
   ]
  },
  {
   "cell_type": "markdown",
   "metadata": {},
   "source": [
    "3. Receba um inteiro e diga se é par ou ímpar."
   ]
  },
  {
   "cell_type": "code",
   "execution_count": 4,
   "metadata": {},
   "outputs": [
    {
     "name": "stdout",
     "output_type": "stream",
     "text": [
      "7 é impar\n"
     ]
    }
   ],
   "source": [
    "numero = int(input('coloque o numero'))\n",
    "imparpar = numero % 2\n",
    "if imparpar == 0 :\n",
    "    print(f'{numero} é par')\n",
    "else:\n",
    "    print(f'{numero} é impar')"
   ]
  },
  {
   "cell_type": "markdown",
   "metadata": {},
   "source": [
    "4. Receba um número inteiro e diga se é positivo ou negativo"
   ]
  },
  {
   "cell_type": "code",
   "execution_count": 7,
   "metadata": {},
   "outputs": [
    {
     "name": "stdout",
     "output_type": "stream",
     "text": [
      "4 é positivo\n"
     ]
    }
   ],
   "source": [
    "numero = int(input('coloque o numero'))\n",
    "positivonegativo = numero % 2\n",
    "if positivonegativo == 0 :\n",
    "    print(f'{numero} é positivo')\n",
    "else:\n",
    "    print(f'{numero} é negativo')"
   ]
  },
  {
   "cell_type": "markdown",
   "metadata": {},
   "source": [
    "5. Pergunte o ano de nascimento de uma pessoa e diga se ele é maior de idade"
   ]
  },
  {
   "cell_type": "code",
   "execution_count": 117,
   "metadata": {},
   "outputs": [
    {
     "name": "stdout",
     "output_type": "stream",
     "text": [
      "Menor de idade\n"
     ]
    }
   ],
   "source": [
    "ano = int(input('Qual seu ano de Nascimento'))\n",
    "idade = 2024 - ano\n",
    "if idade >= 18 :\n",
    "   print(\"Maior de idade\")\n",
    "else:\n",
    "   print(\"Menor de idade\")"
   ]
  },
  {
   "cell_type": "markdown",
   "metadata": {},
   "source": [
    "6. Ler dois números inteiros e informar se estes são iguais ou diferentes."
   ]
  },
  {
   "cell_type": "code",
   "execution_count": 4,
   "metadata": {},
   "outputs": [
    {
     "name": "stdout",
     "output_type": "stream",
     "text": [
      "igual\n"
     ]
    }
   ],
   "source": [
    "numero1 = float(input('Digite o seu primeiro número: '))\n",
    "numero2 = float(input('Digite o seu primeiro número: '))\n",
    "if numero1 == numero2:\n",
    "   print(\"igual\")\n",
    "else:\n",
    "   print(\"diferente\")\n"
   ]
  },
  {
   "cell_type": "markdown",
   "metadata": {},
   "source": [
    "7. Receba a velocidade do carro e exiba que foi multado se for maior que 80km/h, o valor da\n",
    "multa será R$ 7,00 por cada km excedido, exibir o valor da multa"
   ]
  },
  {
   "cell_type": "code",
   "execution_count": 97,
   "metadata": {},
   "outputs": [
    {
     "name": "stdout",
     "output_type": "stream",
     "text": [
      "Você foi multado em R$ 299700.00!\n"
     ]
    }
   ],
   "source": [
    "velocidade = float(input(\"Digite a velocidade do seu carro:\"))\n",
    "if velocidade > 80:\n",
    "    multa = (velocidade - 80) * 5\n",
    "    print(f\"Você foi multado em R$ {multa:7.2f}!\")\n",
    "else: \n",
    "    print(\"Sua velocidade está ok, boa viagem!\")"
   ]
  },
  {
   "cell_type": "markdown",
   "metadata": {},
   "source": [
    "Exercício EXTRA"
   ]
  },
  {
   "cell_type": "markdown",
   "metadata": {},
   "source": [
    "2. Escreva um programa que calcule o preço a ser pago por um produto considerando um desconto de 10% se o valor da compra for maior que R$ 100,00."
   ]
  },
  {
   "cell_type": "code",
   "execution_count": 41,
   "metadata": {},
   "outputs": [
    {
     "name": "stdout",
     "output_type": "stream",
     "text": [
      "600.0 - 540.0\n"
     ]
    }
   ],
   "source": [
    "preço = float(input(\"Digite o preço da mercadoria:\"))\n",
    "desconto = preço - (preço * 10/100)\n",
    "if  preço > 100:\n",
    "    print(f'{preço} - {desconto}')\n",
    "else:\n",
    "    print(f'não tem desconto')"
   ]
  }
 ],
 "metadata": {
  "kernelspec": {
   "display_name": "Python 3",
   "language": "python",
   "name": "python3"
  },
  "language_info": {
   "codemirror_mode": {
    "name": "ipython",
    "version": 3
   },
   "file_extension": ".py",
   "mimetype": "text/x-python",
   "name": "python",
   "nbconvert_exporter": "python",
   "pygments_lexer": "ipython3",
   "version": "3.12.2"
  }
 },
 "nbformat": 4,
 "nbformat_minor": 2
}
