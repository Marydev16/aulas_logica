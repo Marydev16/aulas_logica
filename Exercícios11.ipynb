{
 "cells": [
  {
   "cell_type": "markdown",
   "metadata": {},
   "source": [
    "1. Faça um Programa que mostre a mensagem \"Seja Bem-Vindo ao SESI 😎\" na tela."
   ]
  },
  {
   "cell_type": "code",
   "execution_count": 1,
   "metadata": {},
   "outputs": [
    {
     "name": "stdout",
     "output_type": "stream",
     "text": [
      "Seja Bem-Vindo ao SESI 😎\n"
     ]
    }
   ],
   "source": [
    "print(\"Seja Bem-Vindo ao SESI 😎\")"
   ]
  },
  {
   "cell_type": "markdown",
   "metadata": {},
   "source": [
    "2. Faça um Programa que peça um número e então mostre a mensagem “O número\n",
    "informado foi [número]”."
   ]
  },
  {
   "cell_type": "code",
   "execution_count": 10,
   "metadata": {},
   "outputs": [
    {
     "name": "stdout",
     "output_type": "stream",
     "text": [
      "O número informado foi 9\n"
     ]
    }
   ],
   "source": [
    "n = int(input('digite um número de 1 a 10'))\n",
    "print(f'O número informado foi {n}')"
   ]
  },
  {
   "cell_type": "markdown",
   "metadata": {},
   "source": [
    "3. Faça um programa que receba 2 números inteiros e exiba a divisão entre eles"
   ]
  },
  {
   "cell_type": "code",
   "execution_count": 15,
   "metadata": {},
   "outputs": [
    {
     "name": "stdout",
     "output_type": "stream",
     "text": [
      "9.166666666666666\n"
     ]
    }
   ],
   "source": [
    "numero1 = int(input('digite um número'))\n",
    "numero2 = int(input('digite um número'))\n",
    "divisão = numero1 / numero2 \n",
    "print(divisão)"
   ]
  },
  {
   "cell_type": "markdown",
   "metadata": {},
   "source": [
    "4. Faça um Programa que pergunte quanto você ganha por hora e o número de horas\n",
    "trabalhadas no mês. Calcule e mostre o total do seu salário no referido mês."
   ]
  },
  {
   "cell_type": "code",
   "execution_count": 19,
   "metadata": {},
   "outputs": [
    {
     "name": "stdout",
     "output_type": "stream",
     "text": [
      "20000.0\n"
     ]
    }
   ],
   "source": [
    "qnt_ganha = float(input('Quanto ganha por hora? '))\n",
    "horas_trabalhadas = int(input('Horas trabalhadas por mês: '))\n",
    "calcule = qnt_ganha * horas_trabalhadas\n",
    "print(calcule)"
   ]
  },
  {
   "cell_type": "markdown",
   "metadata": {},
   "source": [
    "5. Faça um Programa que verifique se uma letra digitada é \"F\" ou \"M\". Conforme a letra\n",
    "escrever: F - Feminino, M - Masculino, Sexo Inválido."
   ]
  },
  {
   "cell_type": "code",
   "execution_count": 25,
   "metadata": {},
   "outputs": [
    {
     "name": "stdout",
     "output_type": "stream",
     "text": [
      "sexo feminino\n"
     ]
    }
   ],
   "source": [
    "letra = (input('digite uma letra'))\n",
    "if letra == 'F' :\n",
    "    print('sexo feminino')\n",
    "elif letra == 'M' :\n",
    "    print('sexo masculino')\n",
    "else:\n",
    "    print('sexo invalido')"
   ]
  },
  {
   "cell_type": "markdown",
   "metadata": {},
   "source": [
    "6. Tendo como dado de entrada a altura (h) de uma pessoa e o sexo, construa um algoritmo\n",
    "que calcule seu peso ideal, utilizando as seguintes fórmulas:\n",
    "\n",
    "Para homens: (72.7 * altura) – 58 Para mulheres: (62.1 * altura) - 44.7"
   ]
  },
  {
   "cell_type": "code",
   "execution_count": 27,
   "metadata": {},
   "outputs": [
    {
     "name": "stdout",
     "output_type": "stream",
     "text": [
      "Seu peso ideal é: 48.45 kg\n"
     ]
    }
   ],
   "source": [
    "def peso_ideal_altura_altura(sexo, altura):\n",
    "    if sexo == 'homem':\n",
    "        peso_ideal = (72.7 * altura) - 58\n",
    "    elif sexo == 'mulher':\n",
    "        peso_ideal = (62.1 * altura) - 44.7\n",
    "    else:\n",
    "        peso_ideal = None\n",
    "        print(\"Sexo não reconhecido. Por favor, insira 'homem' ou 'mulher'.\")\n",
    "    return peso_ideal\n",
    "\n",
    "altura = float(input(\"Digite sua altura em metros: \"))\n",
    "sexo = input(\"Digite seu sexo (homem/mulher): \").lower()\n",
    "\n",
    "peso_ideal = peso_ideal_altura_altura(sexo, altura)\n",
    "\n",
    "if peso_ideal:\n",
    "    print(\"Seu peso ideal é: {:.2f} kg\".format(peso_ideal))"
   ]
  },
  {
   "cell_type": "markdown",
   "metadata": {},
   "source": [
    "7. Faça um Programa que pergunte quanto você ganha por hora e o número de horas\n",
    "trabalhadas no mês.\n",
    "\n",
    "Calcule e mostre o total do seu salário no referido mês, sabendo-se que são descontados\n",
    "11% para o Imposto de Renda, 8% para o INSS e 5% para o sindicato, faça um programa\n",
    "que nos dê: salário bruto. quanto pagou ao INSS. quanto pagou ao sindicato. o salário\n",
    "líquido. calcule os descontos e o salário líquido, conforme a tabela abaixo:\n",
    "\n",
    "+ Salário Bruto : R$\n",
    "\n",
    "- IR (11%) : R$\n",
    "\n",
    "- INSS (8%) : R$\n",
    "\n",
    "- Sindicato ( 5%) : R$\n",
    "\n",
    "= Salário Liquido : R$\n",
    "\n",
    "Obs.: Salário Bruto - Descontos = Salário Líquido."
   ]
  },
  {
   "cell_type": "code",
   "execution_count": null,
   "metadata": {},
   "outputs": [],
   "source": []
  },
  {
   "cell_type": "markdown",
   "metadata": {},
   "source": [
    "8. Faça uma função que peça um valor e mostre na tela se o valor é positivo ou negativo."
   ]
  },
  {
   "cell_type": "code",
   "execution_count": 14,
   "metadata": {},
   "outputs": [
    {
     "name": "stdout",
     "output_type": "stream",
     "text": [
      "negativo\n"
     ]
    }
   ],
   "source": [
    "valor = int((input('digite um valor de 1 a 10')))\n",
    "if valor > 0 :\n",
    "    print('positivo')\n",
    "else: \n",
    "    print('negativo')"
   ]
  },
  {
   "cell_type": "markdown",
   "metadata": {},
   "source": [
    "9. Faça uma função que imprima na tela apenas os números ímpares entre 1 e 50."
   ]
  },
  {
   "cell_type": "code",
   "execution_count": 17,
   "metadata": {},
   "outputs": [
    {
     "name": "stdout",
     "output_type": "stream",
     "text": [
      "1\n",
      "3\n",
      "5\n",
      "7\n",
      "9\n",
      "11\n",
      "13\n",
      "15\n",
      "17\n",
      "19\n",
      "21\n",
      "23\n",
      "25\n",
      "27\n",
      "29\n",
      "31\n",
      "33\n",
      "35\n",
      "37\n",
      "39\n",
      "41\n",
      "43\n",
      "45\n",
      "47\n",
      "49\n"
     ]
    }
   ],
   "source": [
    "def imprimir_impares():\n",
    "    for num in range(1, 51, 2):\n",
    "        print(num)\n",
    "\n",
    "imprimir_impares()"
   ]
  },
  {
   "cell_type": "markdown",
   "metadata": {},
   "source": [
    "10. Faça uma função que receba dois números inteiros e gere os números inteiros que estão\n",
    "no intervalo compreendido por eles."
   ]
  },
  {
   "cell_type": "code",
   "execution_count": 20,
   "metadata": {},
   "outputs": [
    {
     "name": "stdout",
     "output_type": "stream",
     "text": [
      "[2, 3, 4, 5, 6, 7]\n"
     ]
    }
   ],
   "source": [
    "def numeros_no_intervalo(num1, num2):\n",
    "    menor = min(num1, num2)\n",
    "    maior = max(num1, num2)\n",
    "    \n",
    "    numeros = []\n",
    "    for i in range(menor, maior + 1):\n",
    "        numeros.append(i)\n",
    "    \n",
    "    return numeros\n",
    "\n",
    "num1 = 2\n",
    "num2 = 7\n",
    "\n",
    "print(numeros_no_intervalo(num1, num2))"
   ]
  },
  {
   "cell_type": "markdown",
   "metadata": {},
   "source": [
    "11. Faça uma função que peça um número positivo e em seguida mostre este número invertido.\n",
    "\n",
    "Exemplo: 12376489 => 98467321"
   ]
  },
  {
   "cell_type": "code",
   "execution_count": null,
   "metadata": {},
   "outputs": [],
   "source": []
  }
 ],
 "metadata": {
  "kernelspec": {
   "display_name": "Python 3",
   "language": "python",
   "name": "python3"
  },
  "language_info": {
   "codemirror_mode": {
    "name": "ipython",
    "version": 3
   },
   "file_extension": ".py",
   "mimetype": "text/x-python",
   "name": "python",
   "nbconvert_exporter": "python",
   "pygments_lexer": "ipython3",
   "version": "3.12.3"
  }
 },
 "nbformat": 4,
 "nbformat_minor": 2
}
