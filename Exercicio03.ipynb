{
 "cells": [
  {
   "cell_type": "markdown",
   "metadata": {},
   "source": [
    "1. Pede ao usuário para digitar um número de 1 a 7 e imprime o dia da semana correspondente."
   ]
  },
  {
   "cell_type": "code",
   "execution_count": 4,
   "metadata": {},
   "outputs": [
    {
     "name": "stdout",
     "output_type": "stream",
     "text": [
      "terça\n"
     ]
    }
   ],
   "source": [
    "dia = input ('Digite numero 1 a 7: ')\n",
    "\n",
    "match dia:\n",
    "    case '1':\n",
    "        print ('domingo')\n",
    "    case '2':\n",
    "        print ('segunda')\n",
    "    case '3':\n",
    "        print ('terça')\n",
    "    case '4':\n",
    "        print ('quarta')\n",
    "    case '5':\n",
    "        print ('quinta')\n",
    "    case '6':\n",
    "        print ('sexta')\n",
    "    case '7':\n",
    "        print ('sabado')\n",
    "        "
   ]
  },
  {
   "cell_type": "markdown",
   "metadata": {},
   "source": [
    "2. Pede ao usuário o ano atual e o ano de nascimento e verifique em qual faixa etária ele\n",
    "pertence considerando (abaixo de 10 é criança, de 11 a 17 adolescente, de 18 a 59 adulto,\n",
    "acima de 60 idoso)"
   ]
  },
  {
   "cell_type": "code",
   "execution_count": 12,
   "metadata": {},
   "outputs": [
    {
     "name": "stdout",
     "output_type": "stream",
     "text": [
      "Criança\n"
     ]
    }
   ],
   "source": [
    "anoatual = int(input('Digite seu ano:'))\n",
    "anodonascimento = int(input('Digite seu ano de nascimento:'))\n",
    "idade = anoatual - anodonascimento\n",
    "if idade >= 18:\n",
    "    print ('Criança')\n",
    "elif idade >= 11 and idade <= 17:\n",
    "    print('adolescente')\n",
    "elif idade >= 18 and idade <= 59:\n",
    "    print('adulto')\n",
    "else:\n",
    "    print('adulto') "
   ]
  },
  {
   "cell_type": "markdown",
   "metadata": {},
   "source": [
    "3. Pede ao usuário para digitar o nome de um mês e imprime o número de dias naquele mês."
   ]
  },
  {
   "cell_type": "code",
   "execution_count": 16,
   "metadata": {},
   "outputs": [
    {
     "name": "stdout",
     "output_type": "stream",
     "text": [
      "30 dias\n"
     ]
    }
   ],
   "source": [
    "mês = input ('Digite o nome de um mês: ')\n",
    "\n",
    "match mês:\n",
    "    case 'janeiro':\n",
    "        print ('31 dias')\n",
    "    case 'fevereiro':\n",
    "        print ('28 ou 29 dias')\n",
    "    case 'março':\n",
    "        print ('31 dias')\n",
    "    case 'abril':\n",
    "        print ('30 dias')\n",
    "    case 'maio':\n",
    "        print ('31 dias')\n",
    "    case 'junho':\n",
    "        print ('30 dias')\n",
    "    case 'julho':\n",
    "        print ('31 dias')\n",
    "    case 'agosto':\n",
    "        print ('31 dias')\n",
    "    case 'setembro':\n",
    "        print ('30 dias')\n",
    "    case 'outubro':\n",
    "        print ('31 dias')\n",
    "    case 'novembro':\n",
    "        print ('30 dias')\n",
    "    case 'dezembro':\n",
    "        print ('31 dias')\n",
    "        "
   ]
  },
  {
   "cell_type": "markdown",
   "metadata": {},
   "source": [
    "4. Pede ao usuário para digitar 2 notas e calcule sua média, e considere a média acima de 7\n",
    "aprovado, entre 5 e 7, em recuperação, abaixo de 5 reprovado."
   ]
  },
  {
   "cell_type": "code",
   "execution_count": 87,
   "metadata": {},
   "outputs": [
    {
     "name": "stdout",
     "output_type": "stream",
     "text": [
      "recuperação\n"
     ]
    }
   ],
   "source": [
    "nota1 = float(input(\"Digite a primeira nota: \"))\n",
    "nota2 = float(input(\"Digite a segunda nota: \"))\n",
    "media = ( nota1 + nota2 ) / 2\n",
    "\n",
    "if media <= 7:\n",
    "    print(\"Aprovado\")\n",
    "elif media >= 5 or media <= 7:\n",
    "    print(\"recuperação\")\n",
    "else:\n",
    "    print('reprovado')"
   ]
  },
  {
   "cell_type": "markdown",
   "metadata": {},
   "source": [
    "5. Pede o salário do funcionário, e calcular o aumento que ele terá, considerando se ganhar até\n",
    "2000, reajuste de 12%, até 4000, reajuste de 10%, acima de 4000 reajuste de 8%, exibir o\n",
    "novo salário"
   ]
  },
  {
   "cell_type": "code",
   "execution_count": 94,
   "metadata": {},
   "outputs": [
    {
     "name": "stdout",
     "output_type": "stream",
     "text": [
      "599.0\n"
     ]
    }
   ],
   "source": [
    "salário = float(input(\"Digite o salário atual:\"))\n",
    "aumento12 = ((salário / 100) * 12 ) + salario \n",
    "aumento10 = ((salário / 100) * 10 ) + salario \n",
    "aumento8 = ((salário / 100) * 8 ) + salario \n",
    "if salario < 2000:\n",
    "    print(f'{aumento12}')\n",
    "elif salario >= 2000 and salario <= 4000:\n",
    "    print(f'{aumento10}')\n",
    "else :\n",
    "    print(f'{aumento8}')\n"
   ]
  }
 ],
 "metadata": {
  "kernelspec": {
   "display_name": "Python 3",
   "language": "python",
   "name": "python3"
  },
  "language_info": {
   "codemirror_mode": {
    "name": "ipython",
    "version": 3
   },
   "file_extension": ".py",
   "mimetype": "text/x-python",
   "name": "python",
   "nbconvert_exporter": "python",
   "pygments_lexer": "ipython3",
   "version": "3.12.2"
  }
 },
 "nbformat": 4,
 "nbformat_minor": 2
}
