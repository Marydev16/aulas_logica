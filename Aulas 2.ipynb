{
 "cells": [
  {
   "cell_type": "markdown",
   "metadata": {},
   "source": [
    "Aula 16/02/2024 - comandos de saída (print) / Tipos de dados (string, int, float, bool) / Operações Aritméticas ( + - * / % **)"
   ]
  },
  {
   "cell_type": "code",
   "execution_count": 26,
   "metadata": {},
   "outputs": [
    {
     "name": "stdout",
     "output_type": "stream",
     "text": [
      "olá mundo !!!\n",
      "Meu primeiro código em python. Usando aspas duplas\n",
      "Meu primeiro código em python. Usando aspas simples\n",
      "Para duplicar uma linha pressionei shift + alt + Seta Baixo\n",
      "123\n",
      "70.5\n",
      "True\n",
      "Sesi\n",
      "14\n",
      "86\n",
      "string 10 70.5 False\n"
     ]
    }
   ],
   "source": [
    "#Este é o meu primeiro código \n",
    "#a função print serve para exibir na tela alguma mensagem \n",
    "print('olá mundo !!!')\n",
    "print(\"Meu primeiro código em python. Usando aspas duplas\")\n",
    "print('Meu primeiro código em python. Usando aspas simples')\n",
    "print('Para duplicar uma linha pressionei shift + alt + Seta Baixo')\n",
    "print(123) #Estou exibindo um número inteiro, por isso, não preciso da \"\"\n",
    "print(70.5) #Número float \n",
    "print(True) #Campo lógico (Verdadeiro ou falso) (true ou false)\n",
    "print(\"Sesi\") #Tipo string\n",
    "# Somando 2 números inteiros (o sinal de + para 2 números realiza  a SOMA)\n",
    "print (8 + 6)\n",
    "# Porém se forem 2 strings (o sinal de + realiza a CONCATENAÇÃO)\n",
    "\n",
    "\n",
    "print ('8' + '6')\n",
    "\n",
    "#Posso Imprimir várias informações ao mesmo tempo separando-as por ,  \n",
    "print ('string', 10, 70.5, False)\n",
    "\n",
    "print( 10 + 50 ) # + é o operador de SOMA ( numero inteiro ou decimal)\n",
    "print ( 67 - 13 ) # - é o operador de SUBTRAÇÃO (nº inteiro ou decimal)\n",
    "print ( 4214328 * 312321) # * é o operador de MULTIPLICAÇÃO\n",
    "print ( 4827 / 3 ) # / é o operador de DIVISÃO\n",
    "print ( 31 % 2 ) # % é o operador do resto da divisão (MÓDULO)\n",
    "print( 3 ** 3 ) # ** é o operador de exponenciação 3³\n",
    "\n",
    "print ( (8 + 6) / 2) # O Parêntese define a maior ordem de precedência "
   ]
  },
  {
   "cell_type": "markdown",
   "metadata": {},
   "source": [
    "Aula 22/02/2024 - Comandos de entrada (input) / Variáveis / Pseudocódigo"
   ]
  },
  {
   "cell_type": "code",
   "execution_count": 25,
   "metadata": {},
   "outputs": [
    {
     "name": "stdout",
     "output_type": "stream",
     "text": [
      "curso\n",
      "Desenvolvimento de Sistemas\n",
      "curso Desenvolvimento de Sistemas\n",
      "Olá Mariáh , você tem 15 anos, hoje ta fazendo 23.5\n",
      "Mariáh 15\n",
      "Ricardo 34\n",
      "mel 15 47.0\n",
      "Seu nome é mel, você tem 15 anos e pesa 47.0kg\n",
      "<class 'str'> <class 'int'> <class 'float'>\n"
     ]
    }
   ],
   "source": [
    "#Declarando minha primeira variável \n",
    "#lemos da seguinte forma:\n",
    "#variavel curso recebe(=) a string \"Desenvolvimento de Sistemas\"\n",
    "#Receba/Armazene o texto Desenvolvimento de sistemas\n",
    "curso = \"Desenvolvimento de Sistemas\"\n",
    "#Exiba o valor armazenado \n",
    "print(\"curso\")  # Para imprimir uma variável não se coloca entre \" \"\n",
    "print(curso)    # Jeito correte de utilizar uma variável \n",
    "print(\"curso\", curso)\n",
    "\n",
    "#Criando e atribuindo uma variavel\n",
    "idade = 15 \n",
    "temperatura = 23.5\n",
    "nome = \"Mariáh\"\n",
    "#Exiba o valor das 3 variáveis \n",
    "print(\"Olá\", nome , \", você tem\" , idade , \"anos, hoje ta fazendo\" , temperatura )\n",
    "\n",
    "#Declarando variáveis lógicos, recebe apenas True ou false \n",
    "chovendo = False \n",
    "dia = True \n",
    "\n",
    "# Nesta linha abaixo ocorrerá um erro pois não existe uma variavel com o \n",
    "# nome salario, então não consegue encontrar nada para exibir \n",
    "# NameError: 'salario' is not defined\n",
    "# print(\"Salario\", salario)\n",
    "\n",
    "#Declarando um constante, diferentemente da variável que posso alterar o valor \n",
    "# na constante não é permitido, declaramos com o nome todo e maiuscula \n",
    "PI = 3.1415\n",
    "\n",
    "print(nome, idade)\n",
    "idade = 34\n",
    "nome = \"Ricardo\"\n",
    "print(nome, idade)\n",
    "\n",
    "#Passo 1: Receber o nome da pessoa\n",
    "#No input sempre recebemos um string  \n",
    "nome = input('Qual é o seu nome?')\n",
    "#Passo 2: Receber a idade da pessoa  \n",
    "#Posso converter essa string recebida do tipo inteiro\n",
    "idade = int(input('qual é a sua idade?'))\n",
    "#Passo 3: Receber o peso da pessoa  \n",
    "#Posso converter essa string recebida float\n",
    "peso = float(input('Qual é o seu peso?'))\n",
    "#Passo 4: Exibir o nome, a idade e o peso \n",
    "print(nome, idade, peso)\n",
    "print (f'Seu nome é {nome}, você tem {idade} anos e pesa {peso}kg')\n",
    "\n",
    "#Exibindo os tipos das variaveis \n",
    "#Tudo que recebemos do input é do tipo string\n",
    "print(type(nome), type(idade), type(peso))\n"
   ]
  },
  {
   "cell_type": "markdown",
   "metadata": {},
   "source": [
    "23/02/2024 - Operações com variáveis "
   ]
  },
  {
   "cell_type": "code",
   "execution_count": 10,
   "metadata": {},
   "outputs": [
    {
     "name": "stdout",
     "output_type": "stream",
     "text": [
      "170.0\n",
      "<class 'float'>\n"
     ]
    }
   ],
   "source": [
    "#Receber o primeiro número \n",
    "numero1 = float(input('Digite o seu primeiro número: '))\n",
    "#Receber o segundo número \n",
    "numero2 = float(input('Digite o segundo número: '))\n",
    "#Receber o terceiro número\n",
    "numero3 = float(input('Digite o terceiro número'))\n",
    "#Soma o primeiro número + o segundo número \n",
    "soma = numero1 + numero2 + numero3\n",
    "#Exibir o resultado \n",
    "print(soma)\n",
    "print(type(soma))"
   ]
  },
  {
   "cell_type": "code",
   "execution_count": 12,
   "metadata": {},
   "outputs": [
    {
     "name": "stdout",
     "output_type": "stream",
     "text": [
      "5963.0\n"
     ]
    }
   ],
   "source": [
    "numero1 = float(input('Digite um número'))\n",
    "numero2 = float(input('Digite um número'))\n",
    "multiplicacao = numero1 * numero2\n",
    "print(multiplicacao)\n"
   ]
  },
  {
   "cell_type": "code",
   "execution_count": 16,
   "metadata": {},
   "outputs": [
    {
     "name": "stdout",
     "output_type": "stream",
     "text": [
      "24.0\n"
     ]
    }
   ],
   "source": [
    "#Passo 1: Receber o valor do celular\n",
    "valor = float(input('O valor do celular: '))\n",
    "#Passo 2: Receber o valor do desconto\n",
    "desconto =float(input('Valor do desconto: '))\n",
    "#Passo 3: Receber o valor total\n",
    "valor = valor - desconto \n",
    "print(valor)"
   ]
  },
  {
   "cell_type": "code",
   "execution_count": 17,
   "metadata": {},
   "outputs": [
    {
     "name": "stdout",
     "output_type": "stream",
     "text": [
      "2.0\n",
      "4.0\n",
      "120.0\n",
      "o valor final é 120.0\n"
     ]
    }
   ],
   "source": [
    "numero = 4 / 2\n",
    "print (numero)\n",
    "numero = numero ** 2\n",
    "print (numero)\n",
    "numero = numero * (50 - 20)\n",
    "print (numero)\n",
    "print (f'o valor final é {numero}')"
   ]
  },
  {
   "cell_type": "code",
   "execution_count": 19,
   "metadata": {},
   "outputs": [
    {
     "name": "stdout",
     "output_type": "stream",
     "text": [
      "Você deve cobrar R$ 12000\n"
     ]
    }
   ],
   "source": [
    "horas_por_dia = 8\n",
    "dias_totais = 15\n",
    "horas_trabalho = horas_por_dia * dias_totais\n",
    "custo_hora = 100\n",
    "custo_total = horas_trabalho * custo_hora\n",
    "print(f'Você deve cobrar R$ {custo_total}')\n"
   ]
  }
 ],
 "metadata": {
  "kernelspec": {
   "display_name": "Python 3",
   "language": "python",
   "name": "python3"
  },
  "language_info": {
   "codemirror_mode": {
    "name": "ipython",
    "version": 3
   },
   "file_extension": ".py",
   "mimetype": "text/x-python",
   "name": "python",
   "nbconvert_exporter": "python",
   "pygments_lexer": "ipython3",
   "version": "3.12.2"
  }
 },
 "nbformat": 4,
 "nbformat_minor": 2
}
