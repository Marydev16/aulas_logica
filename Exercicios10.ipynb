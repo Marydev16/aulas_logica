{
 "cells": [
  {
   "cell_type": "markdown",
   "metadata": {},
   "source": [
    "1. Escreva uma função que utilize uma variável global para contar o número de vezes que foi\n",
    "chamada. A função deve retornar o número atual de chamadas."
   ]
  },
  {
   "cell_type": "code",
   "execution_count": 5,
   "metadata": {},
   "outputs": [
    {
     "name": "stdout",
     "output_type": "stream",
     "text": [
      "1\n",
      "2\n",
      "3\n"
     ]
    }
   ],
   "source": [
    "# Definindo uma variável global para contar o número de chamadas \n",
    "contador_de_chamadas = 0\n",
    "\n",
    "def funcao_com_contador_global():\n",
    "    global contador_de_chamadas\n",
    "    contador_de_chamadas += 1\n",
    "    return contador_de_chamadas\n",
    "\n",
    "# Testando a função\n",
    "print(funcao_com_contador_global())  # Saída: 1\n",
    "print(funcao_com_contador_global())  # Saída: 2\n",
    "print(funcao_com_contador_global())  # Saída: 3"
   ]
  },
  {
   "cell_type": "markdown",
   "metadata": {},
   "source": [
    "2. Crie um algoritmo que receba em variável global o valor atual do dólar e do euro, crie uma\n",
    "função que receba o valor a ser convertido e imprima a conversão em dólar e em euro."
   ]
  },
  {
   "cell_type": "code",
   "execution_count": 19,
   "metadata": {},
   "outputs": [
    {
     "name": "stdout",
     "output_type": "stream",
     "text": [
      "R$ 2500.0 equivale a US$471.6981132075472 e $403.22580645161287\n"
     ]
    }
   ],
   "source": [
    "dolar = 5.30  \n",
    "euro = 6.20  \n",
    "\n",
    "def Conversao(real):\n",
    "    dolar_convertido = real / dolar \n",
    "    euro_convertido = real / euro\n",
    "    print(f'R$ {real} equivale a US${dolar_convertido} e ${euro_convertido}')\n",
    "\n",
    "valor = float(input('Digite o avarlo em R$'))\n",
    "Conversao(valor)"
   ]
  },
  {
   "cell_type": "markdown",
   "metadata": {},
   "source": [
    "3. Escreva uma função que recebe um nome e o adicione a uma lista de nomes global. Em\n",
    "seguida, escreva outra função que remova um elemento dessa lista global recebendo o nome."
   ]
  },
  {
   "cell_type": "code",
   "execution_count": 20,
   "metadata": {},
   "outputs": [
    {
     "name": "stdout",
     "output_type": "stream",
     "text": [
      "['Marcos Ja que eu fiz']\n",
      "['Marcos Ja que eu fiz', 'Douglas']\n",
      "['Marcos Ja que eu fiz']\n"
     ]
    }
   ],
   "source": [
    "listaNomes = []\n",
    "\n",
    "def Adicionar(nome) :\n",
    "    listaNomes.append(nome)\n",
    "    print(listaNomes)\n",
    "\n",
    "def Remover(nome) :\n",
    "    listaNomes.remove(nome)\n",
    "    print(listaNomes)\n",
    "\n",
    "Adicionar('Marcos Ja que eu fiz')\n",
    "Adicionar('Douglas')\n",
    "Remover('Douglas')"
   ]
  },
  {
   "cell_type": "markdown",
   "metadata": {},
   "source": [
    "4. Crie um caixa eletrônico: Crie uma variável global para armazenar o saldo, crie função para\n",
    "depositar e sacar, recebendo o valor como parâmetro, crie outra função para consultar o\n",
    "saldo. Crie um menu interativo com while para navegar entre as funções:\n",
    "\n",
    "[1] Depositar    \n",
    "  \n",
    "[2] Sacar\n",
    "\n",
    "[3] Consultar saldo\n",
    "\n",
    "[4] Parar programa\n"
   ]
  },
  {
   "cell_type": "code",
   "execution_count": 25,
   "metadata": {},
   "outputs": [
    {
     "name": "stdout",
     "output_type": "stream",
     "text": [
      "Menu\n",
      "[1] Depositar\n",
      "[2] Sacar\n",
      "[3] Consultar conta\n",
      "[4] Sair\n"
     ]
    }
   ],
   "source": [
    "saldo = 0 \n",
    "def Depositar(n1):\n",
    "    global saldo\n",
    "    saldo = saldo + n1\n",
    "def sacar(n1):\n",
    "    global saldo\n",
    "    saldo = saldo - n1\n",
    "def consutar():\n",
    "    print(f'Seu saldo R$ {saldo:.2f}')\n",
    "while True :\n",
    "    print('Menu')\n",
    "    print('[1] Depositar')\n",
    "    print('[2] Sacar')\n",
    "    print('[3] Consultar conta')\n",
    "    print('[4] Sair')\n",
    "    opecao = input('Digite um número do menu:')\n",
    "    if opecao == '1':\n",
    "        n1 = float(input('Digite o valor a depositar:'))\n",
    "        Depositar(n1)\n",
    "    elif opecao == '2':\n",
    "        n1 = float(input('Digite o valor a sacar:'))\n",
    "        sacar(n1)\n",
    "    elif opecao == '3':\n",
    "        consutar(n1)\n",
    "    else :\n",
    "        break\n"
   ]
  },
  {
   "cell_type": "markdown",
   "metadata": {},
   "source": [
    "5. Desenhando um retângulo. Crie um algoritmo que receba em variável global um caractere\n",
    "especial. Em uma função receba 2 parâmetros altura e largura e desenhe de acordo com a\n",
    "largura, a quantidade de vezes que irá repetir o caractere, e de acordo com a altura, o número\n",
    "de linhas que será desenhado. Ex: Caractere +, largura 20 altura 5:\n",
    "\n",
    "++++++++++++++++++++\n",
    "\n",
    "++++++++++++++++++++\n",
    "\n",
    "++++++++++++++++++++\n",
    "\n",
    "++++++++++++++++++++\n",
    "\n",
    "++++++++++++++++++++\n"
   ]
  },
  {
   "cell_type": "code",
   "execution_count": 26,
   "metadata": {},
   "outputs": [
    {
     "name": "stdout",
     "output_type": "stream",
     "text": [
      "++++++++++++++++++++\n",
      "++++++++++++++++++++\n",
      "++++++++++++++++++++\n",
      "++++++++++++++++++++\n",
      "++++++++++++++++++++\n"
     ]
    }
   ],
   "source": [
    "caractere = '+'\n",
    "def desenharForma(l, a) :\n",
    "    global caractere\n",
    "    for i in range(a) :\n",
    "        print(caractere * l)\n",
    "desenharForma(20,5)"
   ]
  }
 ],
 "metadata": {
  "kernelspec": {
   "display_name": "Python 3",
   "language": "python",
   "name": "python3"
  },
  "language_info": {
   "codemirror_mode": {
    "name": "ipython",
    "version": 3
   },
   "file_extension": ".py",
   "mimetype": "text/x-python",
   "name": "python",
   "nbconvert_exporter": "python",
   "pygments_lexer": "ipython3",
   "version": "3.12.3"
  }
 },
 "nbformat": 4,
 "nbformat_minor": 2
}
