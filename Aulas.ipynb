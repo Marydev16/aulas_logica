{
 "cells": [
  {
   "cell_type": "markdown",
   "metadata": {},
   "source": [
    "Aula 16/02/2024 - comandos de saída (print) / Tipos de dados (string, int, float, bool) / Operações Aritméticas ( + - * / % **)"
   ]
  },
  {
   "cell_type": "code",
   "execution_count": 1,
   "metadata": {},
   "outputs": [
    {
     "name": "stdout",
     "output_type": "stream",
     "text": [
      "olá mundo !!!\n",
      "Meu primeiro código em python. Usando aspas duplas\n",
      "Meu primeiro código em python. Usando aspas simples\n",
      "Para duplicar uma linha pressionei shift + alt + Seta Baixo\n",
      "123\n",
      "70.5\n",
      "True\n",
      "Sesi\n",
      "14\n",
      "86\n",
      "string 10 70.5 False\n",
      "60\n",
      "54\n",
      "1316223135288\n",
      "1609.0\n",
      "1\n",
      "27\n",
      "7.0\n"
     ]
    }
   ],
   "source": [
    "#Este é o meu primeiro código \n",
    "#a função print serve para exibir na tela alguma mensagem \n",
    "print('olá mundo !!!')\n",
    "print(\"Meu primeiro código em python. Usando aspas duplas\")\n",
    "print('Meu primeiro código em python. Usando aspas simples')\n",
    "print('Para duplicar uma linha pressionei shift + alt + Seta Baixo')\n",
    "print(123) #Estou exibindo um número inteiro, por isso, não preciso da \"\"\n",
    "print(70.5) #Número float \n",
    "print(True) #Campo lógico (Verdadeiro ou falso) (true ou false)\n",
    "print(\"Sesi\") #Tipo string\n",
    "# Somando 2 números inteiros (o sinal de + para 2 números realiza  a SOMA)\n",
    "print (8 + 6)\n",
    "# Porém se forem 2 strings (o sinal de + realiza a CONCATENAÇÃO)\n",
    "\n",
    "\n",
    "print ('8' + '6')\n",
    "\n",
    "#Posso Imprimir várias informações ao mesmo tempo separando-as por ,  \n",
    "print ('string', 10, 70.5, False)\n",
    "\n",
    "print( 10 + 50 ) # + é o operador de SOMA ( numero inteiro ou decimal)\n",
    "print ( 67 - 13 ) # - é o operador de SUBTRAÇÃO (nº inteiro ou decimal)\n",
    "print ( 4214328 * 312321) # * é o operador de MULTIPLICAÇÃO\n",
    "print ( 4827 / 3 ) # / é o operador de DIVISÃO\n",
    "print ( 31 % 2 ) # % é o operador do resto da divisão (MÓDULO)\n",
    "print( 3 ** 3 ) # ** é o operador de exponenciação 3³\n",
    "\n",
    "print ( (8 + 6) / 2) # O Parêntese define a maior ordem de precedência "
   ]
  },
  {
   "cell_type": "markdown",
   "metadata": {},
   "source": [
    "Aula 22/02/2024 - Comandos de entrada (input) / Variáveis / Pseudocódigo"
   ]
  },
  {
   "cell_type": "code",
   "execution_count": null,
   "metadata": {},
   "outputs": [],
   "source": [
    "#Declarando minha primeira variável \n",
    "#lemos da seguinte forma:\n",
    "#variavel curso recebe(=) a string \"Desenvolvimento de Sistemas\"\n",
    "#Receba/Armazene o texto Desenvolvimento de sistemas\n",
    "curso = \"Desenvolvimento de Sistemas\"\n",
    "#Exiba o valor armazenado \n",
    "print(\"curso\")  # Para imprimir uma variável não se coloca entre \" \"\n",
    "print(curso)    # Jeito correte de utilizar uma variável \n",
    "print(\"curso\", curso)\n",
    "\n",
    "#Criando e atribuindo uma variavel\n",
    "idade = 15 \n",
    "temperatura = 23.5\n",
    "nome = \"Mariáh\"\n",
    "#Exiba o valor das 3 variáveis \n",
    "print(\"Olá\", nome , \", você tem\" , idade , \"anos, hoje ta fazendo\" , temperatura )\n",
    "\n",
    "#Declarando variáveis lógicos, recebe apenas True ou false \n",
    "chovendo = False \n",
    "dia = True \n",
    "\n",
    "# Nesta linha abaixo ocorrerá um erro pois não existe uma variavel com o \n",
    "# nome salario, então não consegue encontrar nada para exibir \n",
    "# NameError: 'salario' is not defined\n",
    "# print(\"Salario\", salario)\n",
    "\n",
    "#Declarando um constante, diferentemente da variável que posso alterar o valor \n",
    "# na constante não é permitido, declaramos com o nome todo e maiuscula \n",
    "PI = 3.1415\n",
    "\n",
    "print(nome, idade)\n",
    "idade = 34\n",
    "nome = \"Ricardo\"\n",
    "print(nome, idade)\n",
    "\n",
    "#Passo 1: Receber o nome da pessoa\n",
    "#No input sempre recebemos um string  \n",
    "nome = input('Qual é o seu nome?')\n",
    "#Passo 2: Receber a idade da pessoa  \n",
    "#Posso converter essa string recebida do tipo inteiro\n",
    "idade = int(input('qual é a sua idade?'))\n",
    "#Passo 3: Receber o peso da pessoa  \n",
    "#Posso converter essa string recebida float\n",
    "peso = float(input('Qual é o seu peso?'))\n",
    "#Passo 4: Exibir o nome, a idade e o peso \n",
    "print(nome, idade, peso)\n",
    "print (f'Seu nome é {nome}, você tem {idade} anos e pesa {peso}kg')\n",
    "\n",
    "#Exibindo os tipos das variaveis \n",
    "#Tudo que recebemos do input é do tipo string\n",
    "print(type(nome), type(idade), type(peso))\n"
   ]
  },
  {
   "cell_type": "markdown",
   "metadata": {},
   "source": [
    "29/02/2024 - Operadores relacionais e estrutura condicional \n"
   ]
  },
  {
   "cell_type": "code",
   "execution_count": 8,
   "metadata": {},
   "outputs": [
    {
     "name": "stdout",
     "output_type": "stream",
     "text": [
      "a > b ? False \n",
      "a == b ? False\n",
      "a != b ? True\n",
      "a > b ? False\n",
      "a >= b ? True\n"
     ]
    }
   ],
   "source": [
    "a = 2\n",
    "b = 3\n",
    "print(f'a > b ? {a > b} ')\n",
    "print(f'a == b ? {a == b}')\n",
    "print(f'a != b ? {a != b}')\n",
    "print(f'a > b ? {a > 2}')\n",
    "print(f'a >= b ? {a >= 2}')"
   ]
  },
  {
   "cell_type": "code",
   "execution_count": 10,
   "metadata": {},
   "outputs": [
    {
     "name": "stdout",
     "output_type": "stream",
     "text": [
      "posso entrar\n",
      "fim\n"
     ]
    }
   ],
   "source": [
    "tenhoIngresso = True \n",
    "if tenhoIngresso == True :\n",
    "    print('posso entrar')\n",
    "    print('fim')"
   ]
  },
  {
   "cell_type": "code",
   "execution_count": 14,
   "metadata": {},
   "outputs": [
    {
     "name": "stdout",
     "output_type": "stream",
     "text": [
      "FIM\n"
     ]
    }
   ],
   "source": [
    "# Passo 1: Receber o valor da idade\n",
    "idade = int(input('Qual sua idade'))\n",
    "#Passo 2: verificar SE é maior ou igual a 18 ENTÃO\n",
    "if idade >= 18 :\n",
    "    #Passo 3: Se for Exibir \"Maior idade\"\n",
    "    print(\"Maior idade\")\n",
    "\n",
    "if idade == 18 :\n",
    "print('FIM')\n"
   ]
  },
  {
   "cell_type": "code",
   "execution_count": 18,
   "metadata": {},
   "outputs": [
    {
     "name": "stdout",
     "output_type": "stream",
     "text": [
      "posso entrar\n",
      "FIM\n"
     ]
    }
   ],
   "source": [
    "tenhoIngresso = True \n",
    "if tenhoIngresso == True :\n",
    "    print('posso entrar')\n",
    "else : \n",
    "    print('fim')\n",
    "print('FIM')"
   ]
  },
  {
   "cell_type": "code",
   "execution_count": 19,
   "metadata": {},
   "outputs": [
    {
     "name": "stdout",
     "output_type": "stream",
     "text": [
      "Maior de idade\n",
      "FIM\n"
     ]
    }
   ],
   "source": [
    "# Passo 1: Receber o valor da idade\n",
    "idade = int(input('Qual sua idade'))\n",
    "#Passo 2: verificar SE é maior ou igual a 18 ENTÃO\n",
    "if idade >= 18 :\n",
    "    #Passo 3: Se for Exibir \"Maior idade\"\n",
    "    print(\"Maior de idade\")\n",
    "else:\n",
    "    print('menor de idade')\n",
    "\n",
    "print('FIM')"
   ]
  },
  {
   "cell_type": "markdown",
   "metadata": {},
   "source": [
    "01/03/2024 - Operadores Lógicos e Estrutura condicional "
   ]
  },
  {
   "cell_type": "code",
   "execution_count": 3,
   "metadata": {},
   "outputs": [
    {
     "name": "stdout",
     "output_type": "stream",
     "text": [
      "False\n",
      "False\n",
      "False\n",
      "True\n"
     ]
    }
   ],
   "source": [
    "a = 2\n",
    "b = 3\n",
    "c = 5\n",
    "#False e False \n",
    "print((a > 2) and (b < 2)) #False \n",
    "#False e False\n",
    "print((a > 2) or (b < 2)) #False\n",
    "#False e False \n",
    "print((a > 2) or (b < 2)) #True\n",
    "\n",
    "idade = 18 \n",
    "#FalseTrue\n",
    "print(idade > 18 or idade == 18)  #True \n",
    "#idade >=v18\n"
   ]
  },
  {
   "cell_type": "code",
   "execution_count": 12,
   "metadata": {},
   "outputs": [
    {
     "name": "stdout",
     "output_type": "stream",
     "text": [
      "Peso ideal!\n"
     ]
    }
   ],
   "source": [
    "altura = float(input('Digite sua altura'))\n",
    "peso = float(input('Digite seu peso'))\n",
    "imc =  peso / (altura ** 2)\n",
    "if imc < 18.5:\n",
    "    print('Abaixo do peso ideal')\n",
    "elif imc >= 18.6 and imc <= 24.9:\n",
    "    print('Peso ideal!')\n",
    "elif imc >= 25 and imc <= 29.9:\n",
    "    print('Sobrepeso')\n",
    "else: \n",
    "    print ('Obesidade')"
   ]
  },
  {
   "cell_type": "code",
   "execution_count": 15,
   "metadata": {},
   "outputs": [
    {
     "name": "stdout",
     "output_type": "stream",
     "text": [
      "Triangulo Escaleno\n"
     ]
    }
   ],
   "source": [
    "lado1 = input('Digite lado 1:')\n",
    "lado2 = input('Digite lado 2:')\n",
    "lado3 = input('Digite lado 3:')\n",
    "if (lado1 == lado2) and (lado2 == lado3):\n",
    "    print('Triangulo Equilátero')\n",
    "elif (lado1 != lado2) and (lado2 != lado3) and (lado1 != lado3):\n",
    "    print('Triangulo Escaleno')\n",
    "else:\n",
    "    print('Triangulo Isósceles')"
   ]
  },
  {
   "cell_type": "code",
   "execution_count": 15,
   "metadata": {},
   "outputs": [
    {
     "ename": "SyntaxError",
     "evalue": "invalid syntax (1553416662.py, line 4)",
     "output_type": "error",
     "traceback": [
      "\u001b[1;36m  Cell \u001b[1;32mIn[15], line 4\u001b[1;36m\u001b[0m\n\u001b[1;33m    elif letra == '1' or letra == '2' or letra == '3' or letra == '4' or letra == '5' or letra == '6' or letra == '7' or letra == '8' or letra '9':\u001b[0m\n\u001b[1;37m                                                                                                                                               ^\u001b[0m\n\u001b[1;31mSyntaxError\u001b[0m\u001b[1;31m:\u001b[0m invalid syntax\n"
     ]
    }
   ],
   "source": [
    "letra = input(\"Digite uma letra:\")\n",
    "if letra == 'a' or letra == 'e' or letra == 'i' or letra == 'o' or letra == 'u' :\n",
    "    print(f'a letra {letra} é uma vogal')\n",
    "elif letra == '1' or letra == '2' or letra == '3' or letra == '4' or letra == '5' or letra == '6' or letra == '7' or letra == '8' or letra '9':\n",
    "else:\n",
    "    print(f'a letra {letra} E uma consoante')"
   ]
  },
  {
   "cell_type": "markdown",
   "metadata": {},
   "source": [
    "07/03/2024 - Estrutura condicional aninhada / match case"
   ]
  },
  {
   "cell_type": "code",
   "execution_count": 12,
   "metadata": {},
   "outputs": [
    {
     "name": "stdout",
     "output_type": "stream",
     "text": [
      "Seu voto é facultativo\n",
      "FIM\n"
     ]
    }
   ],
   "source": [
    "idade = int(input('Digite sua idade:'))\n",
    "if idade >= 18 and idade <= 70:\n",
    "    print ('Você é obrigado a votar')\n",
    "else :\n",
    "    if idade < 16 :\n",
    "        print ('Você não pode votar')\n",
    "    else :\n",
    "        if idade >= 16 or idade > 70:\n",
    "            print ('Seu voto é facultativo')\n",
    "print('FIM')"
   ]
  },
  {
   "cell_type": "code",
   "execution_count": 18,
   "metadata": {},
   "outputs": [
    {
     "name": "stdout",
     "output_type": "stream",
     "text": [
      "Operador digitado inválido\n"
     ]
    }
   ],
   "source": [
    "numero1 = int (input ('Digite numero 1: ')) \n",
    "numero2 = int (input ('Digite numero 2:'))\n",
    "operador = input ('Digite uma operação (+-*/**')\n",
    "\n",
    "match operador:\n",
    "    case '+' :\n",
    "        print(f'{n1} {op} {n2} = {n1+n2}')\n",
    "    case '-':\n",
    "        print(f'{n1} {op} {n2} = {n1-n2}')\n",
    "    case '*':\n",
    "        print(f'{n1} {op} {n2} = {n1*n2}')\n",
    "    case '/':\n",
    "        print(f'{n1} {op} {n2} = {n1/n2}')\n",
    "    case '**':\n",
    "        print(f'{n1} {op} {n2} = {n1**n2}')\n",
    "    case _ :\n",
    "        print('Operador digitado inválido')"
   ]
  },
  {
   "cell_type": "markdown",
   "metadata": {},
   "source": [
    "21/03/2024 - Revisão de while "
   ]
  },
  {
   "cell_type": "code",
   "execution_count": 3,
   "metadata": {},
   "outputs": [
    {
     "name": "stdout",
     "output_type": "stream",
     "text": [
      "FIM\n"
     ]
    }
   ],
   "source": [
    "resp = 'S'\n",
    "while resp == 'S' :\n",
    "    resp = input('Deseja continuar? [S/N]')\n",
    "\n",
    "print('FIM')"
   ]
  },
  {
   "cell_type": "code",
   "execution_count": 7,
   "metadata": {},
   "outputs": [
    {
     "name": "stdout",
     "output_type": "stream",
     "text": [
      "Valor Total R$  9.00 com 2 produtos \n"
     ]
    }
   ],
   "source": [
    "soma = 0\n",
    "qtde = 0\n",
    "while True:\n",
    "    valor = float(input('Digite o valor do produto [-1 para encerrar]'))   \n",
    "    if valor == -1:\n",
    "        break\n",
    "    soma =  valor + soma \n",
    "    qtde = qtde + 1\n",
    "\n",
    "print (f'Valor Total R$ {soma: .2f} com {qtde} produtos ')\n"
   ]
  },
  {
   "cell_type": "code",
   "execution_count": null,
   "metadata": {},
   "outputs": [],
   "source": [
    "#Importando a biblioteca de números aleatórios\n",
    "import random\n",
    "#Sorteando um número de 1 a 100\n",
    "nrsorteado = random.randint(1, 100)\n",
    "\n",
    "print ('...................................')\n",
    "print (':     JOGO DA ADIVINHAÇÃO         :')\n",
    "print ('...................................')\n",
    "\n",
    "acertou = False \n",
    "while acertou == False :\n",
    "    chute = int(input('🕵️‍♀️ Digite um número entre 1 e 100: '))\n",
    "    if chute == nrsorteado :\n",
    "        print (f'Você chutou {chute}. Parabéns voê acertou 👏👏👏')\n",
    "        acertou = True \n",
    "    elif chute > nrsorteado :\n",
    "        print(f'Você chutou {chute}. Tente um número 👇')\n",
    "    else :\n",
    "        print(f'Você chutou {chute}. Tente um número 👆')\n",
    "\n",
    "print('FIM')"
   ]
  },
  {
   "cell_type": "markdown",
   "metadata": {},
   "source": [
    "22/03/2024 - For"
   ]
  },
  {
   "cell_type": "code",
   "execution_count": 2,
   "metadata": {},
   "outputs": [
    {
     "name": "stdout",
     "output_type": "stream",
     "text": [
      "0\n",
      "1\n",
      "2\n",
      "3\n",
      "4\n"
     ]
    }
   ],
   "source": [
    "# x = 1 \n",
    "# while x <= 20 :\n",
    "#   print (x)\n",
    "#   x = x + 1\n",
    "# print('FIM)\n",
    "\n",
    "for x in range(5) :\n",
    "    print(x)"
   ]
  },
  {
   "cell_type": "code",
   "execution_count": 16,
   "metadata": {},
   "outputs": [
    {
     "name": "stdout",
     "output_type": "stream",
     "text": [
      "Entregando os notebooks\n",
      "Não pegar o notebook 1\n",
      "Não pegar o notebook 2\n"
     ]
    },
    {
     "ename": "KeyboardInterrupt",
     "evalue": "Interrupted by user",
     "output_type": "error",
     "traceback": [
      "\u001b[1;31m---------------------------------------------------------------------------\u001b[0m",
      "\u001b[1;31mKeyboardInterrupt\u001b[0m                         Traceback (most recent call last)",
      "Cell \u001b[1;32mIn[16], line 5\u001b[0m\n\u001b[0;32m      3\u001b[0m nr \u001b[38;5;241m=\u001b[39m nr \u001b[38;5;241m+\u001b[39m \u001b[38;5;241m1\u001b[39m\n\u001b[0;32m      4\u001b[0m nome \u001b[38;5;241m=\u001b[39m \u001b[38;5;28minput\u001b[39m(\u001b[38;5;124mf\u001b[39m\u001b[38;5;124m'\u001b[39m\u001b[38;5;124mQuem é o nº \u001b[39m\u001b[38;5;132;01m{\u001b[39;00mnr\u001b[38;5;132;01m}\u001b[39;00m\u001b[38;5;124m?\u001b[39m\u001b[38;5;124m'\u001b[39m)\n\u001b[1;32m----> 5\u001b[0m presente \u001b[38;5;241m=\u001b[39m \u001b[38;5;28;43minput\u001b[39;49m\u001b[43m(\u001b[49m\u001b[38;5;124;43mf\u001b[39;49m\u001b[38;5;124;43m'\u001b[39;49m\u001b[38;5;124;43mO(a) \u001b[39;49m\u001b[38;5;132;43;01m{\u001b[39;49;00m\u001b[43mnome\u001b[49m\u001b[38;5;132;43;01m}\u001b[39;49;00m\u001b[38;5;124;43m veio para a escola? [S/N]\u001b[39;49m\u001b[38;5;124;43m'\u001b[39;49m\u001b[43m)\u001b[49m\n\u001b[0;32m      6\u001b[0m \u001b[38;5;28;01mif\u001b[39;00m presente \u001b[38;5;241m==\u001b[39m \u001b[38;5;124m'\u001b[39m\u001b[38;5;124mS\u001b[39m\u001b[38;5;124m'\u001b[39m :\n\u001b[0;32m      7\u001b[0m     \u001b[38;5;28mprint\u001b[39m(\u001b[38;5;124mf\u001b[39m\u001b[38;5;124m'\u001b[39m\u001b[38;5;124mPegar o notebook \u001b[39m\u001b[38;5;132;01m{\u001b[39;00mnr\u001b[38;5;132;01m}\u001b[39;00m\u001b[38;5;124m'\u001b[39m)\n",
      "File \u001b[1;32m~\\AppData\\Local\\Packages\\PythonSoftwareFoundation.Python.3.12_qbz5n2kfra8p0\\LocalCache\\local-packages\\Python312\\site-packages\\ipykernel\\kernelbase.py:1282\u001b[0m, in \u001b[0;36mKernel.raw_input\u001b[1;34m(self, prompt)\u001b[0m\n\u001b[0;32m   1280\u001b[0m     msg \u001b[38;5;241m=\u001b[39m \u001b[38;5;124m\"\u001b[39m\u001b[38;5;124mraw_input was called, but this frontend does not support input requests.\u001b[39m\u001b[38;5;124m\"\u001b[39m\n\u001b[0;32m   1281\u001b[0m     \u001b[38;5;28;01mraise\u001b[39;00m StdinNotImplementedError(msg)\n\u001b[1;32m-> 1282\u001b[0m \u001b[38;5;28;01mreturn\u001b[39;00m \u001b[38;5;28;43mself\u001b[39;49m\u001b[38;5;241;43m.\u001b[39;49m\u001b[43m_input_request\u001b[49m\u001b[43m(\u001b[49m\n\u001b[0;32m   1283\u001b[0m \u001b[43m    \u001b[49m\u001b[38;5;28;43mstr\u001b[39;49m\u001b[43m(\u001b[49m\u001b[43mprompt\u001b[49m\u001b[43m)\u001b[49m\u001b[43m,\u001b[49m\n\u001b[0;32m   1284\u001b[0m \u001b[43m    \u001b[49m\u001b[38;5;28;43mself\u001b[39;49m\u001b[38;5;241;43m.\u001b[39;49m\u001b[43m_parent_ident\u001b[49m\u001b[43m[\u001b[49m\u001b[38;5;124;43m\"\u001b[39;49m\u001b[38;5;124;43mshell\u001b[39;49m\u001b[38;5;124;43m\"\u001b[39;49m\u001b[43m]\u001b[49m\u001b[43m,\u001b[49m\n\u001b[0;32m   1285\u001b[0m \u001b[43m    \u001b[49m\u001b[38;5;28;43mself\u001b[39;49m\u001b[38;5;241;43m.\u001b[39;49m\u001b[43mget_parent\u001b[49m\u001b[43m(\u001b[49m\u001b[38;5;124;43m\"\u001b[39;49m\u001b[38;5;124;43mshell\u001b[39;49m\u001b[38;5;124;43m\"\u001b[39;49m\u001b[43m)\u001b[49m\u001b[43m,\u001b[49m\n\u001b[0;32m   1286\u001b[0m \u001b[43m    \u001b[49m\u001b[43mpassword\u001b[49m\u001b[38;5;241;43m=\u001b[39;49m\u001b[38;5;28;43;01mFalse\u001b[39;49;00m\u001b[43m,\u001b[49m\n\u001b[0;32m   1287\u001b[0m \u001b[43m\u001b[49m\u001b[43m)\u001b[49m\n",
      "File \u001b[1;32m~\\AppData\\Local\\Packages\\PythonSoftwareFoundation.Python.3.12_qbz5n2kfra8p0\\LocalCache\\local-packages\\Python312\\site-packages\\ipykernel\\kernelbase.py:1325\u001b[0m, in \u001b[0;36mKernel._input_request\u001b[1;34m(self, prompt, ident, parent, password)\u001b[0m\n\u001b[0;32m   1322\u001b[0m \u001b[38;5;28;01mexcept\u001b[39;00m \u001b[38;5;167;01mKeyboardInterrupt\u001b[39;00m:\n\u001b[0;32m   1323\u001b[0m     \u001b[38;5;66;03m# re-raise KeyboardInterrupt, to truncate traceback\u001b[39;00m\n\u001b[0;32m   1324\u001b[0m     msg \u001b[38;5;241m=\u001b[39m \u001b[38;5;124m\"\u001b[39m\u001b[38;5;124mInterrupted by user\u001b[39m\u001b[38;5;124m\"\u001b[39m\n\u001b[1;32m-> 1325\u001b[0m     \u001b[38;5;28;01mraise\u001b[39;00m \u001b[38;5;167;01mKeyboardInterrupt\u001b[39;00m(msg) \u001b[38;5;28;01mfrom\u001b[39;00m \u001b[38;5;28;01mNone\u001b[39;00m\n\u001b[0;32m   1326\u001b[0m \u001b[38;5;28;01mexcept\u001b[39;00m \u001b[38;5;167;01mException\u001b[39;00m:\n\u001b[0;32m   1327\u001b[0m     \u001b[38;5;28mself\u001b[39m\u001b[38;5;241m.\u001b[39mlog\u001b[38;5;241m.\u001b[39mwarning(\u001b[38;5;124m\"\u001b[39m\u001b[38;5;124mInvalid Message:\u001b[39m\u001b[38;5;124m\"\u001b[39m, exc_info\u001b[38;5;241m=\u001b[39m\u001b[38;5;28;01mTrue\u001b[39;00m)\n",
      "\u001b[1;31mKeyboardInterrupt\u001b[0m: Interrupted by user"
     ]
    }
   ],
   "source": [
    "print('Entregando os notebooks')\n",
    "for nr in range(32) : \n",
    "    nr = nr + 1\n",
    "    nome = input(f'Quem é o nº {nr}?')\n",
    "    presente = input(f'O(a) {nome} veio para a escola? [S/N]')\n",
    "    if presente == 'S' :\n",
    "        print(f'Pegar o notebook {nr}')\n",
    "        print(f'Pegar o mouse {nr}')\n",
    "        print(f'Levar o notebook até o(a) {nome}')\n",
    "    else :\n",
    "        print(f'Não pegar o notebook {nr}')\n",
    "\n",
    "print('Começar a aula')"
   ]
  },
  {
   "cell_type": "code",
   "execution_count": 41,
   "metadata": {},
   "outputs": [
    {
     "name": "stdout",
     "output_type": "stream",
     "text": [
      "5\n",
      "7\n",
      "9\n",
      "11\n",
      "13\n",
      "15\n",
      "17\n",
      "19\n",
      "21\n",
      "23\n",
      "25\n",
      "27\n",
      "29\n"
     ]
    }
   ],
   "source": [
    "for x in range (5, 30, 2) :\n",
    "    print (x)"
   ]
  },
  {
   "cell_type": "code",
   "execution_count": 44,
   "metadata": {},
   "outputs": [
    {
     "name": "stdout",
     "output_type": "stream",
     "text": [
      "80 x 0 = 0\n",
      "80 x 1 = 80\n",
      "80 x 2 = 160\n",
      "80 x 3 = 240\n",
      "80 x 4 = 320\n",
      "80 x 5 = 400\n",
      "80 x 6 = 480\n",
      "80 x 7 = 560\n",
      "80 x 8 = 640\n",
      "80 x 9 = 720\n",
      "80 x 10 = 800\n"
     ]
    }
   ],
   "source": [
    "n = 80\n",
    "for x in range (11) :\n",
    "    print(f'{n} x {x} = {n*x}')"
   ]
  },
  {
   "cell_type": "code",
   "execution_count": 46,
   "metadata": {},
   "outputs": [
    {
     "name": "stdout",
     "output_type": "stream",
     "text": [
      "0\n",
      "1\n",
      "2\n",
      "3\n",
      "4\n",
      "5\n",
      "6\n",
      "7\n",
      "8\n",
      "9\n",
      "10\n",
      "11\n",
      "12\n",
      "13\n",
      "14\n",
      "15\n",
      "16\n",
      "17\n",
      "18\n",
      "19\n",
      "20\n",
      "21\n",
      "22\n",
      "23\n",
      "24\n",
      "25\n",
      "26\n",
      "27\n",
      "28\n",
      "29\n",
      "30\n",
      "31\n",
      "32\n",
      "33\n",
      "34\n",
      "35\n",
      "36\n",
      "37\n",
      "38\n",
      "39\n",
      "40\n",
      "41\n",
      "42\n",
      "43\n",
      "44\n",
      "45\n",
      "46\n",
      "47\n",
      "48\n",
      "49\n",
      "50\n",
      "51\n",
      "52\n",
      "53\n",
      "54\n",
      "55\n",
      "56\n",
      "57\n",
      "58\n",
      "59\n",
      "60\n",
      "61\n",
      "62\n",
      "63\n",
      "64\n",
      "65\n",
      "66\n",
      "67\n",
      "68\n",
      "69\n",
      "70\n",
      "71\n",
      "72\n",
      "73\n",
      "74\n",
      "75\n",
      "76\n",
      "77\n",
      "78\n",
      "79\n",
      "80\n",
      "81\n",
      "82\n",
      "83\n",
      "84\n",
      "85\n",
      "86\n",
      "87\n",
      "88\n",
      "89\n",
      "90\n",
      "91\n",
      "92\n",
      "93\n",
      "94\n",
      "95\n",
      "96\n",
      "97\n",
      "98\n",
      "99\n"
     ]
    }
   ],
   "source": [
    "for x in range(100) :\n",
    "    if x == 10:\n",
    "        break\n",
    "    print(x)\n"
   ]
  },
  {
   "cell_type": "markdown",
   "metadata": {},
   "source": [
    "28/03/2024 - Variaveis Compostos - Vetores / Lista"
   ]
  },
  {
   "cell_type": "code",
   "execution_count": 5,
   "metadata": {},
   "outputs": [
    {
     "name": "stdout",
     "output_type": "stream",
     "text": [
      "['Maça', 'Banana', 'Abacaxi', 'Uva']\n",
      "Banana\n"
     ]
    }
   ],
   "source": [
    "frutas = ['Maça', 'Banana', 'Abacaxi', 'Uva']\n",
    "print(frutas)\n",
    "print(frutas [1])\n",
    "\n",
    "#Declaração de uma lista vazia\n",
    "listaVazia = []\n",
    "\n",
    "#Declaração de uma lista de números\n",
    "numeros = [5, 8, 10, 40, 3]\n",
    "\n",
    "#Declaração de uma lista de strings\n",
    "nomes = ['Ana', 'João', 'Maria']\n",
    "\n",
    "#Declaração de uma lista de mista\n",
    "listaMista = [1, \"teste\", True, 3.5]\n"
   ]
  },
  {
   "cell_type": "code",
   "execution_count": 6,
   "metadata": {},
   "outputs": [
    {
     "name": "stdout",
     "output_type": "stream",
     "text": [
      "['Maça', 'Banana', 'Abacaxi', 'Melancia']\n",
      "['Maça', 'Banana', 'Abacaxi', 'Melancia', 'Laranja']\n",
      "['Maça', 'Banana', 'Morango', 'Abacaxi', 'Melancia', 'Laranja']\n",
      "['Maça', 'Banana', 'Morango', 'Melancia']\n"
     ]
    }
   ],
   "source": [
    "frutas = ['Maça', 'Banana', 'Abacaxi', 'Uva']\n",
    "#Alterando o valor de um item da lista\n",
    "frutas[3] = 'Melancia'\n",
    "print(frutas)\n",
    "\n",
    "#Incluindo um novo item no final da lista\n",
    "frutas.append ('Laranja')\n",
    "print(frutas)\n",
    "\n",
    "#Incluindo um novo item em uma posição específica\n",
    "frutas.insert(2, 'Morango')\n",
    "print(frutas)\n",
    "\n",
    "#Excluindo item da lista\n",
    "#del frutas[3]\n",
    "#frutas.pop(3)\n",
    "frutas.remove('Abacaxi')\n",
    "#Excluindo último item da lista\n",
    "frutas.pop()\n",
    "print(frutas)"
   ]
  },
  {
   "cell_type": "code",
   "execution_count": 7,
   "metadata": {},
   "outputs": [
    {
     "name": "stdout",
     "output_type": "stream",
     "text": [
      "Melancia\n",
      "['Maça', 'Banana', 'Morango', 'Abacaxi']\n",
      "['Banana', 'Morango', 'Abacaxi', 'Melancia', 'Laranja', 'Uva']\n",
      "Uva\n",
      "7\n"
     ]
    }
   ],
   "source": [
    "frutas = ['Maça', 'Banana', 'Morango', 'Abacaxi', 'Melancia', 'Laranja', 'Uva']\n",
    "print(frutas[4])   # Posição especifica\n",
    "print(frutas[0:4]) # Da posição 0 pegar 4 item\n",
    "print(frutas[1:])  # Da posição 1 até o ultimo\n",
    "print(frutas[-1])  # Nr de itens do fim pro inicio\n",
    "print(len(frutas)) # Total de itens da lista"
   ]
  },
  {
   "cell_type": "code",
   "execution_count": 8,
   "metadata": {},
   "outputs": [
    {
     "name": "stdout",
     "output_type": "stream",
     "text": [
      "['Abacaxi', 'Banana', 'Laranja', 'Maça', 'Melancia', 'Morango', 'Uva']\n",
      "['Uva', 'Morango', 'Melancia', 'Maça', 'Laranja', 'Banana', 'Abacaxi']\n"
     ]
    }
   ],
   "source": [
    "frutas = ['Maça', 'Banana', 'Morango', 'Abacaxi', 'Melancia', 'Laranja', 'Uva']\n",
    "frutas.sort()    # Ordenando lista em ordem crecente\n",
    "print(frutas)\n",
    "\n",
    "frutas.reverse() # Ordenando lista em ordem decrescente\n",
    "print(frutas)\n"
   ]
  },
  {
   "cell_type": "markdown",
   "metadata": {},
   "source": [
    "Aula 04/04/2024 - Iteração em listas "
   ]
  },
  {
   "cell_type": "code",
   "execution_count": 18,
   "metadata": {},
   "outputs": [
    {
     "name": "stdout",
     "output_type": "stream",
     "text": [
      "É uma vogal\n"
     ]
    }
   ],
   "source": [
    "#Criandp uma lista de vogais\n",
    "vogais = ['a', 'e', 'i', 'o', 'u']\n",
    "consoantes = ['B', 'C', 'D','F', 'G', 'J', 'K', 'L', 'M', 'N', 'P', 'Q', 'R', 'S', 'T', 'V', 'W', 'X', 'Z']\n",
    "numero = ['1', '2', '3', '4', '5', '6', '7', '8', '9']\n",
    "#recebendo um caractere digitado pelo usuario \n",
    "letra = input('informe um caractere')\n",
    "# O método .lower() deixa todas as letras digitadas como minúscula\n",
    "# O método .upper() deixa todas as letras digitadas como maiúscula\n",
    "# Lemos da seguinte forma:\n",
    "# SE a letra em MINÚSCULAS ESTIVER na lista de vogais ENTÃO\n",
    "if letra.lower() in vogais :\n",
    "    print('É uma vogal')\n",
    "elif letra.lower() in consoantes :\n",
    "    print('é uma consoante')\n",
    "elif letra.lower() in numero :\n",
    "    print(f'O caractere {letra} é um número')\n"
   ]
  },
  {
   "cell_type": "code",
   "execution_count": 22,
   "metadata": {},
   "outputs": [
    {
     "name": "stdout",
     "output_type": "stream",
     "text": [
      "Bem\n",
      "Mal\n",
      "Ivi\n",
      "Carlos\n",
      "Uma\n"
     ]
    }
   ],
   "source": [
    "listaNomes = ['Bem', 'Mal', 'Ivi', 'Carlos', 'Uma']\n",
    "for nome in listaNomes :\n",
    "     print (nome)"
   ]
  },
  {
   "cell_type": "code",
   "execution_count": 27,
   "metadata": {},
   "outputs": [
    {
     "name": "stdout",
     "output_type": "stream",
     "text": [
      "8\n"
     ]
    }
   ],
   "source": [
    "#utilizando lista com números \n",
    "\n",
    "listaNumero = [4, 5, 6, 7, 8]\n",
    "soma = 0 \n",
    "\n",
    "for nr in listaNumero :\n",
    "    soma = soma = nr\n",
    "print(soma)\n",
    "\n",
    "#essa função"
   ]
  },
  {
   "cell_type": "code",
   "execution_count": 28,
   "metadata": {},
   "outputs": [
    {
     "name": "stdout",
     "output_type": "stream",
     "text": [
      "A fruta maçã esta na posição 0\n",
      "A fruta banana esta na posição 1\n",
      "A fruta abacaxi esta na posição 2\n",
      "A fruta uva esta na posição 3\n"
     ]
    }
   ],
   "source": [
    "listaFruta = ['maçã', 'banana', 'abacaxi', 'uva']\n",
    "for pos,fruta in enumerate(listaFruta) :\n",
    "    print(f'A fruta {fruta} esta na posição {pos}')\n",
    "    "
   ]
  },
  {
   "cell_type": "code",
   "execution_count": 34,
   "metadata": {},
   "outputs": [
    {
     "name": "stdout",
     "output_type": "stream",
     "text": [
      "celular\n",
      " notebook\n",
      " tv\n",
      " tablet\n",
      " headset\n"
     ]
    }
   ],
   "source": [
    "produtos = 'celular, notebook, tv, tablet, headset'\n",
    "listaProdutos = produtos.split(',')\n",
    "\n",
    "for produto in listaProdutos :\n",
    "    print (produto)"
   ]
  },
  {
   "cell_type": "code",
   "execution_count": 35,
   "metadata": {},
   "outputs": [
    {
     "name": "stdout",
     "output_type": "stream",
     "text": [
      "S\n",
      "E\n",
      "N\n",
      "A\n",
      "I\n"
     ]
    }
   ],
   "source": [
    "palavra = 'SENAI'\n",
    "for letra in palavra :\n",
    "    print(letra)"
   ]
  },
  {
   "cell_type": "code",
   "execution_count": 2,
   "metadata": {},
   "outputs": [
    {
     "name": "stdout",
     "output_type": "stream",
     "text": [
      "1º Japonesa \n",
      "2º Lanche \n",
      "3º Purê de Batata\n"
     ]
    }
   ],
   "source": [
    "#Criando uma lista vazia \n",
    "listaComidas = []\n",
    "#Laço de repetição sem um nr de execução definida \n",
    "while True :\n",
    "    # Recebendo informação do usuario e armazenando em uma variavel \n",
    "    comida = input('Digite uma comida que voê mais gosta:')\n",
    "    # Inserindo o valor da variavel no final da nossa lista \n",
    "    listaComidas.append(comida)\n",
    "    #Obtendo a resposta do usuario se deseja continuar \n",
    "    resp = input('deseja continuar? [S/N]')\n",
    "    #Verificando condição da resposta dele, se for N ou n sair do laço \n",
    "    if resp in 'Nn' :\n",
    "        # Parando o laço de repetição while \n",
    "        break \n",
    "\n",
    "# Fora do while - após finalizar sua executação e encontrar o break\n",
    "# Laço de repetição para exibir os itens e suas posições \n",
    "for pos, comida in enumerate(listaComidas) :\n",
    "    # Exibindo as variaveis de cada item da lista \n",
    "    print(f'{pos+1}º {comida}')\n"
   ]
  },
  {
   "cell_type": "markdown",
   "metadata": {},
   "source": [
    "11/04/2024 - Funções "
   ]
  },
  {
   "cell_type": "code",
   "execution_count": 2,
   "metadata": {},
   "outputs": [
    {
     "name": "stdout",
     "output_type": "stream",
     "text": [
      "--------------------\n",
      "SESI / SENAI\n"
     ]
    }
   ],
   "source": [
    "print ( '-' * 20)\n",
    "print ('SESI / SENAI')\n"
   ]
  },
  {
   "cell_type": "code",
   "execution_count": 4,
   "metadata": {},
   "outputs": [
    {
     "name": "stdout",
     "output_type": "stream",
     "text": [
      "%%%%%%%%%%%%%%%%%%%%%%%%%%%%%%%%%%%%%%%%\n",
      "SESI/SENAI\n",
      "%%%%%%%%%%%%%%%%%%%%%%%%%%%%%%%%%%%%%%%%\n",
      "%%%%%%%%%%%%%%%%%%%%%%%%%%%%%%%%%%%%%%%%\n",
      "SESI/SENAI\n",
      "%%%%%%%%%%%%%%%%%%%%%%%%%%%%%%%%%%%%%%%%\n",
      "%%%%%%%%%%%%%%%%%%%%%%%%%%%%%%%%%%%%%%%%\n",
      "SESI/SENAI\n",
      "%%%%%%%%%%%%%%%%%%%%%%%%%%%%%%%%%%%%%%%%\n"
     ]
    }
   ],
   "source": [
    "def Linha() : \n",
    "    print('%' * 40)\n",
    "\n",
    "def Cabecalho():\n",
    "    Linha()\n",
    "    print( 'SESI/SENAI' )\n",
    "    Linha()\n",
    "\n",
    "Cabecalho()\n",
    "Cabecalho()\n",
    "Cabecalho()"
   ]
  },
  {
   "cell_type": "code",
   "execution_count": 46,
   "metadata": {},
   "outputs": [
    {
     "name": "stdout",
     "output_type": "stream",
     "text": [
      "Olá mariáh tenha um Bom dia!\n",
      "Olá carlos  tenha um Bom dia!\n",
      "Olá Andre  tenha um Bom dia!\n"
     ]
    }
   ],
   "source": [
    "def saudacao(): \n",
    "    nome = input('Qual é o seu nome? ') \n",
    "    print(f'Olá {nome} tenha um Bom dia!')\n",
    "\n",
    "saudacao()\n",
    "saudacao()\n",
    "saudacao()"
   ]
  },
  {
   "cell_type": "code",
   "execution_count": 47,
   "metadata": {},
   "outputs": [
    {
     "name": "stdout",
     "output_type": "stream",
     "text": [
      "Digite um nome Mariáh 231231\n"
     ]
    }
   ],
   "source": [
    "print('Digite um nome', 'Mariáh', 231231)"
   ]
  },
  {
   "cell_type": "code",
   "execution_count": 50,
   "metadata": {},
   "outputs": [
    {
     "name": "stdout",
     "output_type": "stream",
     "text": [
      "%%%%%%%%%%%%%%%%%%%%%%%%%%%%%%%%%%%%%%%%\n",
      "SESI\n",
      "%%%%%%%%%%%%%%%%%%%%%%%%%%%%%%%%%%%%%%%%\n",
      "%%%%%%%%%%%%%%%%%%%%%%%%%%%%%%%%%%%%%%%%\n",
      "SENAI\n",
      "%%%%%%%%%%%%%%%%%%%%%%%%%%%%%%%%%%%%%%%%\n",
      "%%%%%%%%%%%%%%%%%%%%%%%%%%%%%%%%%%%%%%%%\n",
      "ESCOLA\n",
      "%%%%%%%%%%%%%%%%%%%%%%%%%%%%%%%%%%%%%%%%\n"
     ]
    }
   ],
   "source": [
    "def Cabecalho(texto):\n",
    "    Linha()\n",
    "    print( texto )\n",
    "    Linha()\n",
    "\n",
    "Cabecalho('SESI')\n",
    "Cabecalho('SENAI')\n",
    "Cabecalho('ESCOLA')"
   ]
  },
  {
   "cell_type": "code",
   "execution_count": 49,
   "metadata": {},
   "outputs": [],
   "source": [
    "def ParImpar(numero) :\n",
    "    nrrecebido = int(str(numero)[-1])\n",
    "    if nrrecebido % 2 == 0 :\n",
    "        print(f'O nr {numero} é par')\n",
    "    else :\n",
    "        print(f'O nr {numero} é impar')\n",
    "    Parimpar(9)\n",
    "    Parimpar(10)\n",
    "    "
   ]
  },
  {
   "cell_type": "code",
   "execution_count": 54,
   "metadata": {},
   "outputs": [
    {
     "name": "stdout",
     "output_type": "stream",
     "text": [
      "9.0\n",
      "6.0\n"
     ]
    }
   ],
   "source": [
    "def Media(n1, n2) :\n",
    "    res = (n1 + n2) / 2\n",
    "    return(res)\n",
    "\n",
    "# A variacel resultado_media recebe o retorno da função Media\n",
    "resultado_media = Media(10, 8)\n",
    "print(resultado_media)\n",
    "print(Media (10, 2))\n"
   ]
  },
  {
   "cell_type": "code",
   "execution_count": 56,
   "metadata": {},
   "outputs": [
    {
     "name": "stdout",
     "output_type": "stream",
     "text": [
      "26\n"
     ]
    }
   ],
   "source": [
    "listaNr = [4,6,2,5,9]\n",
    "soma = 0 \n",
    "for nr in listaNr :\n",
    "    soma = soma + nr\n",
    "print(soma)"
   ]
  },
  {
   "cell_type": "code",
   "execution_count": 14,
   "metadata": {},
   "outputs": [
    {
     "name": "stdout",
     "output_type": "stream",
     "text": [
      "25/12/1987\n",
      "27/2/1989\n"
     ]
    }
   ],
   "source": [
    "def FormatarData(d, m, a) :\n",
    "    data = f'{d}/{m}/{a}'\n",
    "    return(data) \n",
    "print(FormatarData(25, 12, 1987))\n",
    "print(FormatarData(27, 2, 1989))\n"
   ]
  },
  {
   "cell_type": "markdown",
   "metadata": {},
   "source": [
    "12/04/2024 - Escopo de variáveis (Variável local e global)"
   ]
  },
  {
   "cell_type": "code",
   "execution_count": 18,
   "metadata": {},
   "outputs": [
    {
     "name": "stdout",
     "output_type": "stream",
     "text": [
      "Valor ANTES da função SENAI\n",
      "Valor dentro da função SESI\n",
      "Valor DEPOIS da função SENAI\n"
     ]
    }
   ],
   "source": [
    "def NomeEscola() :\n",
    "    escola = 'SESI'\n",
    "    print(f'Valor dentro da função {escola}')\n",
    "\n",
    "escola = 'SENAI'\n",
    "print(f'Valor ANTES da função {escola}')\n",
    "NomeEscola()\n",
    "print(f'Valor DEPOIS da função {escola}')"
   ]
  },
  {
   "cell_type": "code",
   "execution_count": 19,
   "metadata": {},
   "outputs": [
    {
     "name": "stdout",
     "output_type": "stream",
     "text": [
      "Valor ANTES da função SENAI\n",
      "Valor dentro da função SESI\n",
      "Valor DEPOIS da função SESI\n"
     ]
    }
   ],
   "source": [
    "def NomeEscola():\n",
    "    # Caso eu queira atualizar o conteúdo da variavel escola \n",
    "    # preciso escrever que ela é a global\n",
    "    global escola \n",
    "    escola = 'SESI' # Alterando o valor da variavel global\n",
    "    print(f'Valor dentro da função {escola}')\n",
    "\n",
    "\n",
    "escola = 'SENAI'\n",
    "print(f'Valor ANTES da função {escola}')\n",
    "NomeEscola()\n",
    "print(f'Valor DEPOIS da função {escola}')"
   ]
  },
  {
   "cell_type": "code",
   "execution_count": null,
   "metadata": {},
   "outputs": [],
   "source": [
    "x = 10 # x é uma variavel global\n",
    "# Podemos acessar x fora de uma função tambem \n",
    "print('fora da função', X)\n",
    "\n",
    "def minhaFuncao() :\n",
    "    '''\n",
    "        Aqui posso escrever a descrição do que faz a minha função\n",
    "    '''\n",
    "    global x #Dizendo que usaremos a variavel x global\n",
    "    x = x + 1\n",
    "    print('Dentro da função', x)\n",
    "\n",
    "minhaFuncao()\n",
    "print('fora da função', X)"
   ]
  }
 ],
 "metadata": {
  "kernelspec": {
   "display_name": "Python 3",
   "language": "python",
   "name": "python3"
  },
  "language_info": {
   "codemirror_mode": {
    "name": "ipython",
    "version": 3
   },
   "file_extension": ".py",
   "mimetype": "text/x-python",
   "name": "python",
   "nbconvert_exporter": "python",
   "pygments_lexer": "ipython3",
   "version": "3.12.3"
  }
 },
 "nbformat": 4,
 "nbformat_minor": 2
}
